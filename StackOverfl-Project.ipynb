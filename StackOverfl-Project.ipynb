{
 "cells": [
  {
   "cell_type": "markdown",
   "id": "c7c76d3f",
   "metadata": {},
   "source": [
    "<h1>Stack Overflow Developer Survey 2022: Key Findings</h1>\n",
    "Data Source: <a href='https://insights.stackoverflow.com/survey/'>2022 Stack Overflow Developer Survey.</a>\n",
    "\n"
   ]
  },
  {
   "cell_type": "markdown",
   "id": "5f54c277",
   "metadata": {},
   "source": [
    "<h2>Project Aim</h2>\n",
    "\n",
    "- Statistical analysis of the data to get the average, loweest and and highest compensation of the respondents.\n",
    "- Visualize the educational level of the respondents.\n",
    "- Identify the top programming languages used currently by the respondents.\n",
    "- Identify the top databases used currently by the respondents.\n",
    "- visaulize the countries of the respondents."
   ]
  },
  {
   "cell_type": "code",
   "execution_count": 3,
   "id": "fb1edc1f",
   "metadata": {},
   "outputs": [],
   "source": [
    "#import libraries\n",
    "import pandas as pd\n",
    "import numpy as np\n",
    "import matplotlib.pyplot as plt\n",
    "import seaborn as sns\n",
    "\n",
    "%matplotlib inline"
   ]
  },
  {
   "cell_type": "markdown",
   "id": "19451f0f",
   "metadata": {},
   "source": [
    "Read the file into dataframe."
   ]
  },
  {
   "cell_type": "code",
   "execution_count": 7,
   "id": "d3edab6f",
   "metadata": {},
   "outputs": [],
   "source": [
    "data = pd.read_csv('/Users/firstnuel/Downloads/stack-overflow-developer-survey-2022/survey_results_public.csv')"
   ]
  },
  {
   "cell_type": "code",
   "execution_count": 8,
   "id": "58743ed2",
   "metadata": {},
   "outputs": [
    {
     "data": {
      "text/html": [
       "<div>\n",
       "<style scoped>\n",
       "    .dataframe tbody tr th:only-of-type {\n",
       "        vertical-align: middle;\n",
       "    }\n",
       "\n",
       "    .dataframe tbody tr th {\n",
       "        vertical-align: top;\n",
       "    }\n",
       "\n",
       "    .dataframe thead th {\n",
       "        text-align: right;\n",
       "    }\n",
       "</style>\n",
       "<table border=\"1\" class=\"dataframe\">\n",
       "  <thead>\n",
       "    <tr style=\"text-align: right;\">\n",
       "      <th></th>\n",
       "      <th>ResponseId</th>\n",
       "      <th>MainBranch</th>\n",
       "      <th>Employment</th>\n",
       "      <th>RemoteWork</th>\n",
       "      <th>CodingActivities</th>\n",
       "      <th>EdLevel</th>\n",
       "      <th>LearnCode</th>\n",
       "      <th>LearnCodeOnline</th>\n",
       "      <th>LearnCodeCoursesCert</th>\n",
       "      <th>YearsCode</th>\n",
       "      <th>...</th>\n",
       "      <th>TimeSearching</th>\n",
       "      <th>TimeAnswering</th>\n",
       "      <th>Onboarding</th>\n",
       "      <th>ProfessionalTech</th>\n",
       "      <th>TrueFalse_1</th>\n",
       "      <th>TrueFalse_2</th>\n",
       "      <th>TrueFalse_3</th>\n",
       "      <th>SurveyLength</th>\n",
       "      <th>SurveyEase</th>\n",
       "      <th>ConvertedCompYearly</th>\n",
       "    </tr>\n",
       "  </thead>\n",
       "  <tbody>\n",
       "    <tr>\n",
       "      <th>0</th>\n",
       "      <td>1</td>\n",
       "      <td>None of these</td>\n",
       "      <td>NaN</td>\n",
       "      <td>NaN</td>\n",
       "      <td>NaN</td>\n",
       "      <td>NaN</td>\n",
       "      <td>NaN</td>\n",
       "      <td>NaN</td>\n",
       "      <td>NaN</td>\n",
       "      <td>NaN</td>\n",
       "      <td>...</td>\n",
       "      <td>NaN</td>\n",
       "      <td>NaN</td>\n",
       "      <td>NaN</td>\n",
       "      <td>NaN</td>\n",
       "      <td>NaN</td>\n",
       "      <td>NaN</td>\n",
       "      <td>NaN</td>\n",
       "      <td>NaN</td>\n",
       "      <td>NaN</td>\n",
       "      <td>NaN</td>\n",
       "    </tr>\n",
       "    <tr>\n",
       "      <th>1</th>\n",
       "      <td>2</td>\n",
       "      <td>I am a developer by profession</td>\n",
       "      <td>Employed, full-time</td>\n",
       "      <td>Fully remote</td>\n",
       "      <td>Hobby;Contribute to open-source projects</td>\n",
       "      <td>NaN</td>\n",
       "      <td>NaN</td>\n",
       "      <td>NaN</td>\n",
       "      <td>NaN</td>\n",
       "      <td>NaN</td>\n",
       "      <td>...</td>\n",
       "      <td>NaN</td>\n",
       "      <td>NaN</td>\n",
       "      <td>NaN</td>\n",
       "      <td>NaN</td>\n",
       "      <td>NaN</td>\n",
       "      <td>NaN</td>\n",
       "      <td>NaN</td>\n",
       "      <td>Too long</td>\n",
       "      <td>Difficult</td>\n",
       "      <td>NaN</td>\n",
       "    </tr>\n",
       "    <tr>\n",
       "      <th>2</th>\n",
       "      <td>3</td>\n",
       "      <td>I am not primarily a developer, but I write co...</td>\n",
       "      <td>Employed, full-time</td>\n",
       "      <td>Hybrid (some remote, some in-person)</td>\n",
       "      <td>Hobby</td>\n",
       "      <td>Master’s degree (M.A., M.S., M.Eng., MBA, etc.)</td>\n",
       "      <td>Books / Physical media;Friend or family member...</td>\n",
       "      <td>Technical documentation;Blogs;Programming Game...</td>\n",
       "      <td>NaN</td>\n",
       "      <td>14</td>\n",
       "      <td>...</td>\n",
       "      <td>NaN</td>\n",
       "      <td>NaN</td>\n",
       "      <td>NaN</td>\n",
       "      <td>NaN</td>\n",
       "      <td>NaN</td>\n",
       "      <td>NaN</td>\n",
       "      <td>NaN</td>\n",
       "      <td>Appropriate in length</td>\n",
       "      <td>Neither easy nor difficult</td>\n",
       "      <td>40205.0</td>\n",
       "    </tr>\n",
       "    <tr>\n",
       "      <th>3</th>\n",
       "      <td>4</td>\n",
       "      <td>I am a developer by profession</td>\n",
       "      <td>Employed, full-time</td>\n",
       "      <td>Fully remote</td>\n",
       "      <td>I don’t code outside of work</td>\n",
       "      <td>Bachelor’s degree (B.A., B.S., B.Eng., etc.)</td>\n",
       "      <td>Books / Physical media;School (i.e., Universit...</td>\n",
       "      <td>NaN</td>\n",
       "      <td>NaN</td>\n",
       "      <td>20</td>\n",
       "      <td>...</td>\n",
       "      <td>NaN</td>\n",
       "      <td>NaN</td>\n",
       "      <td>NaN</td>\n",
       "      <td>NaN</td>\n",
       "      <td>NaN</td>\n",
       "      <td>NaN</td>\n",
       "      <td>NaN</td>\n",
       "      <td>Appropriate in length</td>\n",
       "      <td>Easy</td>\n",
       "      <td>215232.0</td>\n",
       "    </tr>\n",
       "    <tr>\n",
       "      <th>4</th>\n",
       "      <td>5</td>\n",
       "      <td>I am a developer by profession</td>\n",
       "      <td>Employed, full-time</td>\n",
       "      <td>Hybrid (some remote, some in-person)</td>\n",
       "      <td>Hobby</td>\n",
       "      <td>Bachelor’s degree (B.A., B.S., B.Eng., etc.)</td>\n",
       "      <td>Other online resources (e.g., videos, blogs, f...</td>\n",
       "      <td>Technical documentation;Blogs;Stack Overflow;O...</td>\n",
       "      <td>NaN</td>\n",
       "      <td>8</td>\n",
       "      <td>...</td>\n",
       "      <td>NaN</td>\n",
       "      <td>NaN</td>\n",
       "      <td>NaN</td>\n",
       "      <td>NaN</td>\n",
       "      <td>NaN</td>\n",
       "      <td>NaN</td>\n",
       "      <td>NaN</td>\n",
       "      <td>Too long</td>\n",
       "      <td>Easy</td>\n",
       "      <td>NaN</td>\n",
       "    </tr>\n",
       "  </tbody>\n",
       "</table>\n",
       "<p>5 rows × 79 columns</p>\n",
       "</div>"
      ],
      "text/plain": [
       "   ResponseId                                         MainBranch  \\\n",
       "0           1                                      None of these   \n",
       "1           2                     I am a developer by profession   \n",
       "2           3  I am not primarily a developer, but I write co...   \n",
       "3           4                     I am a developer by profession   \n",
       "4           5                     I am a developer by profession   \n",
       "\n",
       "            Employment                            RemoteWork  \\\n",
       "0                  NaN                                   NaN   \n",
       "1  Employed, full-time                          Fully remote   \n",
       "2  Employed, full-time  Hybrid (some remote, some in-person)   \n",
       "3  Employed, full-time                          Fully remote   \n",
       "4  Employed, full-time  Hybrid (some remote, some in-person)   \n",
       "\n",
       "                           CodingActivities  \\\n",
       "0                                       NaN   \n",
       "1  Hobby;Contribute to open-source projects   \n",
       "2                                     Hobby   \n",
       "3              I don’t code outside of work   \n",
       "4                                     Hobby   \n",
       "\n",
       "                                           EdLevel  \\\n",
       "0                                              NaN   \n",
       "1                                              NaN   \n",
       "2  Master’s degree (M.A., M.S., M.Eng., MBA, etc.)   \n",
       "3     Bachelor’s degree (B.A., B.S., B.Eng., etc.)   \n",
       "4     Bachelor’s degree (B.A., B.S., B.Eng., etc.)   \n",
       "\n",
       "                                           LearnCode  \\\n",
       "0                                                NaN   \n",
       "1                                                NaN   \n",
       "2  Books / Physical media;Friend or family member...   \n",
       "3  Books / Physical media;School (i.e., Universit...   \n",
       "4  Other online resources (e.g., videos, blogs, f...   \n",
       "\n",
       "                                     LearnCodeOnline LearnCodeCoursesCert  \\\n",
       "0                                                NaN                  NaN   \n",
       "1                                                NaN                  NaN   \n",
       "2  Technical documentation;Blogs;Programming Game...                  NaN   \n",
       "3                                                NaN                  NaN   \n",
       "4  Technical documentation;Blogs;Stack Overflow;O...                  NaN   \n",
       "\n",
       "  YearsCode  ... TimeSearching TimeAnswering Onboarding ProfessionalTech  \\\n",
       "0       NaN  ...           NaN           NaN        NaN              NaN   \n",
       "1       NaN  ...           NaN           NaN        NaN              NaN   \n",
       "2        14  ...           NaN           NaN        NaN              NaN   \n",
       "3        20  ...           NaN           NaN        NaN              NaN   \n",
       "4         8  ...           NaN           NaN        NaN              NaN   \n",
       "\n",
       "  TrueFalse_1 TrueFalse_2 TrueFalse_3           SurveyLength  \\\n",
       "0         NaN         NaN         NaN                    NaN   \n",
       "1         NaN         NaN         NaN               Too long   \n",
       "2         NaN         NaN         NaN  Appropriate in length   \n",
       "3         NaN         NaN         NaN  Appropriate in length   \n",
       "4         NaN         NaN         NaN               Too long   \n",
       "\n",
       "                   SurveyEase ConvertedCompYearly  \n",
       "0                         NaN                 NaN  \n",
       "1                   Difficult                 NaN  \n",
       "2  Neither easy nor difficult             40205.0  \n",
       "3                        Easy            215232.0  \n",
       "4                        Easy                 NaN  \n",
       "\n",
       "[5 rows x 79 columns]"
      ]
     },
     "execution_count": 8,
     "metadata": {},
     "output_type": "execute_result"
    }
   ],
   "source": [
    "data.head()"
   ]
  },
  {
   "cell_type": "code",
   "execution_count": 9,
   "id": "b2b00a98",
   "metadata": {},
   "outputs": [
    {
     "data": {
      "text/plain": [
       "Index(['ResponseId', 'MainBranch', 'Employment', 'RemoteWork',\n",
       "       'CodingActivities', 'EdLevel', 'LearnCode', 'LearnCodeOnline',\n",
       "       'LearnCodeCoursesCert', 'YearsCode', 'YearsCodePro', 'DevType',\n",
       "       'OrgSize', 'PurchaseInfluence', 'BuyNewTool', 'Country', 'Currency',\n",
       "       'CompTotal', 'CompFreq', 'LanguageHaveWorkedWith',\n",
       "       'LanguageWantToWorkWith', 'DatabaseHaveWorkedWith',\n",
       "       'DatabaseWantToWorkWith', 'PlatformHaveWorkedWith',\n",
       "       'PlatformWantToWorkWith', 'WebframeHaveWorkedWith',\n",
       "       'WebframeWantToWorkWith', 'MiscTechHaveWorkedWith',\n",
       "       'MiscTechWantToWorkWith', 'ToolsTechHaveWorkedWith',\n",
       "       'ToolsTechWantToWorkWith', 'NEWCollabToolsHaveWorkedWith',\n",
       "       'NEWCollabToolsWantToWorkWith', 'OpSysProfessional use',\n",
       "       'OpSysPersonal use', 'VersionControlSystem', 'VCInteraction',\n",
       "       'VCHostingPersonal use', 'VCHostingProfessional use',\n",
       "       'OfficeStackAsyncHaveWorkedWith', 'OfficeStackAsyncWantToWorkWith',\n",
       "       'OfficeStackSyncHaveWorkedWith', 'OfficeStackSyncWantToWorkWith',\n",
       "       'Blockchain', 'NEWSOSites', 'SOVisitFreq', 'SOAccount', 'SOPartFreq',\n",
       "       'SOComm', 'Age', 'Gender', 'Trans', 'Sexuality', 'Ethnicity',\n",
       "       'Accessibility', 'MentalHealth', 'TBranch', 'ICorPM', 'WorkExp',\n",
       "       'Knowledge_1', 'Knowledge_2', 'Knowledge_3', 'Knowledge_4',\n",
       "       'Knowledge_5', 'Knowledge_6', 'Knowledge_7', 'Frequency_1',\n",
       "       'Frequency_2', 'Frequency_3', 'TimeSearching', 'TimeAnswering',\n",
       "       'Onboarding', 'ProfessionalTech', 'TrueFalse_1', 'TrueFalse_2',\n",
       "       'TrueFalse_3', 'SurveyLength', 'SurveyEase', 'ConvertedCompYearly'],\n",
       "      dtype='object')"
      ]
     },
     "execution_count": 9,
     "metadata": {},
     "output_type": "execute_result"
    }
   ],
   "source": [
    "data.columns"
   ]
  },
  {
   "cell_type": "markdown",
   "id": "dc43ec12",
   "metadata": {},
   "source": [
    "Created a new dataframe of the selected columns that i will be using. "
   ]
  },
  {
   "cell_type": "code",
   "execution_count": 13,
   "id": "76bf6717",
   "metadata": {},
   "outputs": [
    {
     "data": {
      "text/html": [
       "<div>\n",
       "<style scoped>\n",
       "    .dataframe tbody tr th:only-of-type {\n",
       "        vertical-align: middle;\n",
       "    }\n",
       "\n",
       "    .dataframe tbody tr th {\n",
       "        vertical-align: top;\n",
       "    }\n",
       "\n",
       "    .dataframe thead th {\n",
       "        text-align: right;\n",
       "    }\n",
       "</style>\n",
       "<table border=\"1\" class=\"dataframe\">\n",
       "  <thead>\n",
       "    <tr style=\"text-align: right;\">\n",
       "      <th></th>\n",
       "      <th>EdLevel</th>\n",
       "      <th>LanguageHaveWorkedWith</th>\n",
       "      <th>LanguageWantToWorkWith</th>\n",
       "      <th>DatabaseHaveWorkedWith</th>\n",
       "      <th>DatabaseWantToWorkWith</th>\n",
       "      <th>Country</th>\n",
       "      <th>Age</th>\n",
       "      <th>ConvertedCompYearly</th>\n",
       "    </tr>\n",
       "  </thead>\n",
       "  <tbody>\n",
       "    <tr>\n",
       "      <th>0</th>\n",
       "      <td>NaN</td>\n",
       "      <td>NaN</td>\n",
       "      <td>NaN</td>\n",
       "      <td>NaN</td>\n",
       "      <td>NaN</td>\n",
       "      <td>NaN</td>\n",
       "      <td>NaN</td>\n",
       "      <td>NaN</td>\n",
       "    </tr>\n",
       "    <tr>\n",
       "      <th>1</th>\n",
       "      <td>NaN</td>\n",
       "      <td>JavaScript;TypeScript</td>\n",
       "      <td>Rust;TypeScript</td>\n",
       "      <td>NaN</td>\n",
       "      <td>NaN</td>\n",
       "      <td>Canada</td>\n",
       "      <td>NaN</td>\n",
       "      <td>NaN</td>\n",
       "    </tr>\n",
       "    <tr>\n",
       "      <th>2</th>\n",
       "      <td>Master’s degree (M.A., M.S., M.Eng., MBA, etc.)</td>\n",
       "      <td>C#;C++;HTML/CSS;JavaScript;Python</td>\n",
       "      <td>C#;C++;HTML/CSS;JavaScript;TypeScript</td>\n",
       "      <td>Microsoft SQL Server</td>\n",
       "      <td>Microsoft SQL Server</td>\n",
       "      <td>United Kingdom of Great Britain and Northern I...</td>\n",
       "      <td>25-34 years old</td>\n",
       "      <td>40205.0</td>\n",
       "    </tr>\n",
       "    <tr>\n",
       "      <th>3</th>\n",
       "      <td>Bachelor’s degree (B.A., B.S., B.Eng., etc.)</td>\n",
       "      <td>C#;JavaScript;SQL;TypeScript</td>\n",
       "      <td>C#;SQL;TypeScript</td>\n",
       "      <td>Microsoft SQL Server</td>\n",
       "      <td>Microsoft SQL Server</td>\n",
       "      <td>Israel</td>\n",
       "      <td>35-44 years old</td>\n",
       "      <td>215232.0</td>\n",
       "    </tr>\n",
       "    <tr>\n",
       "      <th>4</th>\n",
       "      <td>Bachelor’s degree (B.A., B.S., B.Eng., etc.)</td>\n",
       "      <td>C#;HTML/CSS;JavaScript;SQL;Swift;TypeScript</td>\n",
       "      <td>C#;Elixir;F#;Go;JavaScript;Rust;TypeScript</td>\n",
       "      <td>Cloud Firestore;Elasticsearch;Microsoft SQL Se...</td>\n",
       "      <td>Cloud Firestore;Elasticsearch;Firebase Realtim...</td>\n",
       "      <td>United States of America</td>\n",
       "      <td>25-34 years old</td>\n",
       "      <td>NaN</td>\n",
       "    </tr>\n",
       "  </tbody>\n",
       "</table>\n",
       "</div>"
      ],
      "text/plain": [
       "                                           EdLevel  \\\n",
       "0                                              NaN   \n",
       "1                                              NaN   \n",
       "2  Master’s degree (M.A., M.S., M.Eng., MBA, etc.)   \n",
       "3     Bachelor’s degree (B.A., B.S., B.Eng., etc.)   \n",
       "4     Bachelor’s degree (B.A., B.S., B.Eng., etc.)   \n",
       "\n",
       "                        LanguageHaveWorkedWith  \\\n",
       "0                                          NaN   \n",
       "1                        JavaScript;TypeScript   \n",
       "2            C#;C++;HTML/CSS;JavaScript;Python   \n",
       "3                 C#;JavaScript;SQL;TypeScript   \n",
       "4  C#;HTML/CSS;JavaScript;SQL;Swift;TypeScript   \n",
       "\n",
       "                       LanguageWantToWorkWith  \\\n",
       "0                                         NaN   \n",
       "1                             Rust;TypeScript   \n",
       "2       C#;C++;HTML/CSS;JavaScript;TypeScript   \n",
       "3                           C#;SQL;TypeScript   \n",
       "4  C#;Elixir;F#;Go;JavaScript;Rust;TypeScript   \n",
       "\n",
       "                              DatabaseHaveWorkedWith  \\\n",
       "0                                                NaN   \n",
       "1                                                NaN   \n",
       "2                               Microsoft SQL Server   \n",
       "3                               Microsoft SQL Server   \n",
       "4  Cloud Firestore;Elasticsearch;Microsoft SQL Se...   \n",
       "\n",
       "                              DatabaseWantToWorkWith  \\\n",
       "0                                                NaN   \n",
       "1                                                NaN   \n",
       "2                               Microsoft SQL Server   \n",
       "3                               Microsoft SQL Server   \n",
       "4  Cloud Firestore;Elasticsearch;Firebase Realtim...   \n",
       "\n",
       "                                             Country              Age  \\\n",
       "0                                                NaN              NaN   \n",
       "1                                             Canada              NaN   \n",
       "2  United Kingdom of Great Britain and Northern I...  25-34 years old   \n",
       "3                                             Israel  35-44 years old   \n",
       "4                           United States of America  25-34 years old   \n",
       "\n",
       "   ConvertedCompYearly  \n",
       "0                  NaN  \n",
       "1                  NaN  \n",
       "2              40205.0  \n",
       "3             215232.0  \n",
       "4                  NaN  "
      ]
     },
     "execution_count": 13,
     "metadata": {},
     "output_type": "execute_result"
    }
   ],
   "source": [
    "df = data[['EdLevel','LanguageHaveWorkedWith',\n",
    "       'LanguageWantToWorkWith', 'DatabaseHaveWorkedWith',\n",
    "       'DatabaseWantToWorkWith', 'Country','Age','ConvertedCompYearly']]\n",
    "df.head()"
   ]
  },
  {
   "cell_type": "code",
   "execution_count": 16,
   "id": "d8a8021e",
   "metadata": {},
   "outputs": [
    {
     "name": "stdout",
     "output_type": "stream",
     "text": [
      "<class 'pandas.core.frame.DataFrame'>\n",
      "RangeIndex: 73268 entries, 0 to 73267\n",
      "Data columns (total 8 columns):\n",
      " #   Column                  Non-Null Count  Dtype  \n",
      "---  ------                  --------------  -----  \n",
      " 0   EdLevel                 71571 non-null  object \n",
      " 1   LanguageHaveWorkedWith  70975 non-null  object \n",
      " 2   LanguageWantToWorkWith  67027 non-null  object \n",
      " 3   DatabaseHaveWorkedWith  60121 non-null  object \n",
      " 4   DatabaseWantToWorkWith  51014 non-null  object \n",
      " 5   Country                 71771 non-null  object \n",
      " 6   Age                     70946 non-null  object \n",
      " 7   ConvertedCompYearly     38071 non-null  float64\n",
      "dtypes: float64(1), object(7)\n",
      "memory usage: 4.5+ MB\n"
     ]
    }
   ],
   "source": [
    "df.info()"
   ]
  },
  {
   "cell_type": "markdown",
   "id": "5128ee01",
   "metadata": {},
   "source": [
    "<h3>1. Compensation</h3>\n",
    "\n",
    "Created a variable for the 'ConvertedCompYearly' and dropped all NULL values to analyse the yearly salaries."
   ]
  },
  {
   "cell_type": "code",
   "execution_count": 17,
   "id": "34478be9",
   "metadata": {},
   "outputs": [
    {
     "data": {
      "text/html": [
       "<div>\n",
       "<style scoped>\n",
       "    .dataframe tbody tr th:only-of-type {\n",
       "        vertical-align: middle;\n",
       "    }\n",
       "\n",
       "    .dataframe tbody tr th {\n",
       "        vertical-align: top;\n",
       "    }\n",
       "\n",
       "    .dataframe thead th {\n",
       "        text-align: right;\n",
       "    }\n",
       "</style>\n",
       "<table border=\"1\" class=\"dataframe\">\n",
       "  <thead>\n",
       "    <tr style=\"text-align: right;\">\n",
       "      <th></th>\n",
       "      <th>ConvertedCompYearly</th>\n",
       "    </tr>\n",
       "  </thead>\n",
       "  <tbody>\n",
       "    <tr>\n",
       "      <th>2</th>\n",
       "      <td>40205.0</td>\n",
       "    </tr>\n",
       "    <tr>\n",
       "      <th>3</th>\n",
       "      <td>215232.0</td>\n",
       "    </tr>\n",
       "    <tr>\n",
       "      <th>8</th>\n",
       "      <td>49056.0</td>\n",
       "    </tr>\n",
       "    <tr>\n",
       "      <th>10</th>\n",
       "      <td>60307.0</td>\n",
       "    </tr>\n",
       "    <tr>\n",
       "      <th>11</th>\n",
       "      <td>194400.0</td>\n",
       "    </tr>\n",
       "    <tr>\n",
       "      <th>...</th>\n",
       "      <td>...</td>\n",
       "    </tr>\n",
       "    <tr>\n",
       "      <th>73116</th>\n",
       "      <td>115000.0</td>\n",
       "    </tr>\n",
       "    <tr>\n",
       "      <th>73118</th>\n",
       "      <td>57720.0</td>\n",
       "    </tr>\n",
       "    <tr>\n",
       "      <th>73119</th>\n",
       "      <td>70000.0</td>\n",
       "    </tr>\n",
       "    <tr>\n",
       "      <th>73120</th>\n",
       "      <td>35192.0</td>\n",
       "    </tr>\n",
       "    <tr>\n",
       "      <th>73121</th>\n",
       "      <td>75384.0</td>\n",
       "    </tr>\n",
       "  </tbody>\n",
       "</table>\n",
       "<p>38071 rows × 1 columns</p>\n",
       "</div>"
      ],
      "text/plain": [
       "       ConvertedCompYearly\n",
       "2                  40205.0\n",
       "3                 215232.0\n",
       "8                  49056.0\n",
       "10                 60307.0\n",
       "11                194400.0\n",
       "...                    ...\n",
       "73116             115000.0\n",
       "73118              57720.0\n",
       "73119              70000.0\n",
       "73120              35192.0\n",
       "73121              75384.0\n",
       "\n",
       "[38071 rows x 1 columns]"
      ]
     },
     "execution_count": 17,
     "metadata": {},
     "output_type": "execute_result"
    }
   ],
   "source": [
    "compensation = data[['ConvertedCompYearly']].dropna()\n",
    "compensation"
   ]
  },
  {
   "cell_type": "code",
   "execution_count": 20,
   "id": "7e9ab214",
   "metadata": {},
   "outputs": [
    {
     "data": {
      "text/plain": [
       "ConvertedCompYearly    170761.277849\n",
       "dtype: float64"
      ]
     },
     "execution_count": 20,
     "metadata": {},
     "output_type": "execute_result"
    }
   ],
   "source": [
    "compensation.mean()"
   ]
  },
  {
   "cell_type": "markdown",
   "id": "44c09846",
   "metadata": {},
   "source": [
    "- The average salary of the respondents =  170,761USD"
   ]
  },
  {
   "cell_type": "code",
   "execution_count": 25,
   "id": "0d13a549",
   "metadata": {},
   "outputs": [
    {
     "data": {
      "text/plain": [
       "ConvertedCompYearly    50000000.0\n",
       "dtype: float64"
      ]
     },
     "execution_count": 25,
     "metadata": {},
     "output_type": "execute_result"
    }
   ],
   "source": [
    "compensation.max()"
   ]
  },
  {
   "cell_type": "markdown",
   "id": "feb3eb76",
   "metadata": {},
   "source": [
    "- The highest salary of the respondents = 500,000USD"
   ]
  },
  {
   "cell_type": "markdown",
   "id": "6dd22103",
   "metadata": {},
   "source": [
    "<h3>2. Educational Level</h3>\n"
   ]
  },
  {
   "cell_type": "markdown",
   "id": "2d115d0f",
   "metadata": {},
   "source": [
    "- Assigned to variable the value counts of the EdLevel of the respondents.\n",
    "- Sorted the values"
   ]
  },
  {
   "cell_type": "code",
   "execution_count": 51,
   "id": "894f3e9b",
   "metadata": {},
   "outputs": [
    {
     "data": {
      "text/plain": [
       "Professional degree (JD, MD, etc.)                                                     1121\n",
       "Something else                                                                         1247\n",
       "Primary/elementary school                                                              1806\n",
       "Other doctoral degree (Ph.D., Ed.D., etc.)                                             2169\n",
       "Associate degree (A.A., A.S., etc.)                                                    2236\n",
       "Secondary school (e.g. American high school, German Realschule or Gymnasium, etc.)     7904\n",
       "Some college/university study without earning a degree                                 9326\n",
       "Master’s degree (M.A., M.S., M.Eng., MBA, etc.)                                       15486\n",
       "Bachelor’s degree (B.A., B.S., B.Eng., etc.)                                          30276\n",
       "Name: EdLevel, dtype: int64"
      ]
     },
     "execution_count": 51,
     "metadata": {},
     "output_type": "execute_result"
    }
   ],
   "source": [
    "EdLevel_of_respondents = data['EdLevel'].value_counts().sort_values()\n",
    "EdLevel_of_respondents"
   ]
  },
  {
   "cell_type": "markdown",
   "id": "cbe3e4dd",
   "metadata": {},
   "source": [
    "- Plot a bar chart to show the educational level of the respondents."
   ]
  },
  {
   "cell_type": "code",
   "execution_count": 44,
   "id": "99802c6e",
   "metadata": {},
   "outputs": [
    {
     "data": {
      "image/png": "[encoded data removed]",
      "text/plain": [
       "<Figure size 800x600 with 1 Axes>"
      ]
     },
     "metadata": {},
     "output_type": "display_data"
    }
   ],
   "source": [
    "sns.set_style(\"darkgrid\")\n",
    "EdLevel_of_respondents.plot(kind='barh', color=('darkblue'),figsize=(8, 6));\n",
    "plt.title('Education Level of Respondents');"
   ]
  },
  {
   "cell_type": "markdown",
   "id": "f4c3ccec",
   "metadata": {},
   "source": [
    "<h4>Findings</h4>\n",
    "\n",
    "- Most of the respondents had a Bachelors degree.\n",
    "- Very few of the respondents had a professional degree."
   ]
  },
  {
   "cell_type": "markdown",
   "id": "98f1ea12",
   "metadata": {},
   "source": [
    "<h3>3. Programming Languages Trend</h3>"
   ]
  },
  {
   "cell_type": "markdown",
   "id": "b074384f",
   "metadata": {},
   "source": [
    "- To see the value counts of the Language currently used."
   ]
  },
  {
   "cell_type": "code",
   "execution_count": 99,
   "id": "20d19269",
   "metadata": {},
   "outputs": [
    {
     "data": {
      "text/plain": [
       "HTML/CSS;JavaScript;TypeScript                                                              1250\n",
       "Python                                                                                       962\n",
       "HTML/CSS;JavaScript                                                                          914\n",
       "HTML/CSS;JavaScript;PHP;SQL                                                                  745\n",
       "C#;HTML/CSS;JavaScript;SQL;TypeScript                                                        570\n",
       "                                                                                            ... \n",
       "C#;Java;JavaScript;PHP;PowerShell;SQL;TypeScript                                               1\n",
       "C++;HTML/CSS;JavaScript;Python;Solidity;SQL                                                    1\n",
       "Dart;Haskell;HTML/CSS;Java;R;SQL;TypeScript                                                    1\n",
       "Bash/Shell;C;C#;Go;HTML/CSS;Java;JavaScript;Lua;Perl;PHP;Python;Ruby;Rust;SQL;TypeScript       1\n",
       "C#;JavaScript;Lua;PowerShell;SQL;TypeScript                                                    1\n",
       "Name: LanguageHaveWorkedWith, Length: 25068, dtype: int64"
      ]
     },
     "execution_count": 99,
     "metadata": {},
     "output_type": "execute_result"
    }
   ],
   "source": [
    "df['LanguageHaveWorkedWith'].value_counts()"
   ]
  },
  {
   "cell_type": "markdown",
   "id": "7dca56d4",
   "metadata": {},
   "source": [
    "Data cleaning \n",
    "- Using <code>Series.str.split()</code> to split the values to new columns in the dataframe.\n",
    "- Using <code>Stack()</code> to pivot the columns of the current dataframe\n",
    "- Displaying the first 10 values "
   ]
  },
  {
   "cell_type": "code",
   "execution_count": 100,
   "id": "864df881",
   "metadata": {},
   "outputs": [
    {
     "data": {
      "text/plain": [
       "JavaScript    46443\n",
       "HTML/CSS      39142\n",
       "SQL           35127\n",
       "Python        34155\n",
       "TypeScript    24752\n",
       "Java          23644\n",
       "Bash/Shell    20656\n",
       "C#            19883\n",
       "C++           16024\n",
       "PHP           14827\n",
       "dtype: int64"
      ]
     },
     "execution_count": 100,
     "metadata": {},
     "output_type": "execute_result"
    }
   ],
   "source": [
    "LanguageHaveWorkedWith = df['LanguageHaveWorkedWith'].str.split(';', expand=True)\n",
    "LanguageHaveWorkedWith.stack().value_counts().head(10)"
   ]
  },
  {
   "cell_type": "markdown",
   "id": "c9800eef",
   "metadata": {},
   "source": [
    "- Converted the series to a dataframe\n",
    "- reset the index"
   ]
  },
  {
   "cell_type": "code",
   "execution_count": 101,
   "id": "0e61ab30",
   "metadata": {},
   "outputs": [
    {
     "data": {
      "text/html": [
       "<div>\n",
       "<style scoped>\n",
       "    .dataframe tbody tr th:only-of-type {\n",
       "        vertical-align: middle;\n",
       "    }\n",
       "\n",
       "    .dataframe tbody tr th {\n",
       "        vertical-align: top;\n",
       "    }\n",
       "\n",
       "    .dataframe thead th {\n",
       "        text-align: right;\n",
       "    }\n",
       "</style>\n",
       "<table border=\"1\" class=\"dataframe\">\n",
       "  <thead>\n",
       "    <tr style=\"text-align: right;\">\n",
       "      <th></th>\n",
       "      <th>index</th>\n",
       "      <th>0</th>\n",
       "    </tr>\n",
       "  </thead>\n",
       "  <tbody>\n",
       "    <tr>\n",
       "      <th>0</th>\n",
       "      <td>JavaScript</td>\n",
       "      <td>46443</td>\n",
       "    </tr>\n",
       "    <tr>\n",
       "      <th>1</th>\n",
       "      <td>HTML/CSS</td>\n",
       "      <td>39142</td>\n",
       "    </tr>\n",
       "    <tr>\n",
       "      <th>2</th>\n",
       "      <td>SQL</td>\n",
       "      <td>35127</td>\n",
       "    </tr>\n",
       "    <tr>\n",
       "      <th>3</th>\n",
       "      <td>Python</td>\n",
       "      <td>34155</td>\n",
       "    </tr>\n",
       "    <tr>\n",
       "      <th>4</th>\n",
       "      <td>TypeScript</td>\n",
       "      <td>24752</td>\n",
       "    </tr>\n",
       "    <tr>\n",
       "      <th>5</th>\n",
       "      <td>Java</td>\n",
       "      <td>23644</td>\n",
       "    </tr>\n",
       "    <tr>\n",
       "      <th>6</th>\n",
       "      <td>Bash/Shell</td>\n",
       "      <td>20656</td>\n",
       "    </tr>\n",
       "    <tr>\n",
       "      <th>7</th>\n",
       "      <td>C#</td>\n",
       "      <td>19883</td>\n",
       "    </tr>\n",
       "    <tr>\n",
       "      <th>8</th>\n",
       "      <td>C++</td>\n",
       "      <td>16024</td>\n",
       "    </tr>\n",
       "    <tr>\n",
       "      <th>9</th>\n",
       "      <td>PHP</td>\n",
       "      <td>14827</td>\n",
       "    </tr>\n",
       "  </tbody>\n",
       "</table>\n",
       "</div>"
      ],
      "text/plain": [
       "        index      0\n",
       "0  JavaScript  46443\n",
       "1    HTML/CSS  39142\n",
       "2         SQL  35127\n",
       "3      Python  34155\n",
       "4  TypeScript  24752\n",
       "5        Java  23644\n",
       "6  Bash/Shell  20656\n",
       "7          C#  19883\n",
       "8         C++  16024\n",
       "9         PHP  14827"
      ]
     },
     "execution_count": 101,
     "metadata": {},
     "output_type": "execute_result"
    }
   ],
   "source": [
    "df_langUsed = LanguageHaveWorkedWith.stack().value_counts().head(10).to_frame()\n",
    "df_langUsed.reset_index(inplace=True)\n",
    "df_langUsed"
   ]
  },
  {
   "cell_type": "markdown",
   "id": "8df608e2",
   "metadata": {},
   "source": [
    "- Renamed the columns appropriately"
   ]
  },
  {
   "cell_type": "code",
   "execution_count": 102,
   "id": "7b838829",
   "metadata": {},
   "outputs": [
    {
     "data": {
      "text/html": [
       "<div>\n",
       "<style scoped>\n",
       "    .dataframe tbody tr th:only-of-type {\n",
       "        vertical-align: middle;\n",
       "    }\n",
       "\n",
       "    .dataframe tbody tr th {\n",
       "        vertical-align: top;\n",
       "    }\n",
       "\n",
       "    .dataframe thead th {\n",
       "        text-align: right;\n",
       "    }\n",
       "</style>\n",
       "<table border=\"1\" class=\"dataframe\">\n",
       "  <thead>\n",
       "    <tr style=\"text-align: right;\">\n",
       "      <th></th>\n",
       "      <th>Languages</th>\n",
       "      <th>Counts_lang_used</th>\n",
       "    </tr>\n",
       "  </thead>\n",
       "  <tbody>\n",
       "    <tr>\n",
       "      <th>0</th>\n",
       "      <td>JavaScript</td>\n",
       "      <td>46443</td>\n",
       "    </tr>\n",
       "    <tr>\n",
       "      <th>1</th>\n",
       "      <td>HTML/CSS</td>\n",
       "      <td>39142</td>\n",
       "    </tr>\n",
       "    <tr>\n",
       "      <th>2</th>\n",
       "      <td>SQL</td>\n",
       "      <td>35127</td>\n",
       "    </tr>\n",
       "    <tr>\n",
       "      <th>3</th>\n",
       "      <td>Python</td>\n",
       "      <td>34155</td>\n",
       "    </tr>\n",
       "    <tr>\n",
       "      <th>4</th>\n",
       "      <td>TypeScript</td>\n",
       "      <td>24752</td>\n",
       "    </tr>\n",
       "    <tr>\n",
       "      <th>5</th>\n",
       "      <td>Java</td>\n",
       "      <td>23644</td>\n",
       "    </tr>\n",
       "    <tr>\n",
       "      <th>6</th>\n",
       "      <td>Bash/Shell</td>\n",
       "      <td>20656</td>\n",
       "    </tr>\n",
       "    <tr>\n",
       "      <th>7</th>\n",
       "      <td>C#</td>\n",
       "      <td>19883</td>\n",
       "    </tr>\n",
       "    <tr>\n",
       "      <th>8</th>\n",
       "      <td>C++</td>\n",
       "      <td>16024</td>\n",
       "    </tr>\n",
       "    <tr>\n",
       "      <th>9</th>\n",
       "      <td>PHP</td>\n",
       "      <td>14827</td>\n",
       "    </tr>\n",
       "  </tbody>\n",
       "</table>\n",
       "</div>"
      ],
      "text/plain": [
       "    Languages  Counts_lang_used\n",
       "0  JavaScript             46443\n",
       "1    HTML/CSS             39142\n",
       "2         SQL             35127\n",
       "3      Python             34155\n",
       "4  TypeScript             24752\n",
       "5        Java             23644\n",
       "6  Bash/Shell             20656\n",
       "7          C#             19883\n",
       "8         C++             16024\n",
       "9         PHP             14827"
      ]
     },
     "execution_count": 102,
     "metadata": {},
     "output_type": "execute_result"
    }
   ],
   "source": [
    "df_langUsed.rename(columns = {'index': 'Languages',0:'Counts_lang_used'}, inplace = True)\n",
    "df_langUsed"
   ]
  },
  {
   "cell_type": "markdown",
   "id": "7f9f59ed",
   "metadata": {},
   "source": [
    "- To see the value count of the Desired programming language of the respondents"
   ]
  },
  {
   "cell_type": "code",
   "execution_count": 103,
   "id": "24df0290",
   "metadata": {},
   "outputs": [
    {
     "data": {
      "text/plain": [
       "Python                                                          1021\n",
       "HTML/CSS;JavaScript;TypeScript                                   945\n",
       "Rust                                                             825\n",
       "C#                                                               568\n",
       "Go                                                               495\n",
       "                                                                ... \n",
       "HTML/CSS;Java;JavaScript;Kotlin;MATLAB;PowerShell;Python           1\n",
       "C;C#;Dart;F#;HTML/CSS;JavaScript;Python;Rust;SQL;TypeScript        1\n",
       "C;Clojure;Elixir;Go;JavaScript;Rust;TypeScript                     1\n",
       "HTML/CSS;Java;Kotlin;Python;Scala;SQL                              1\n",
       "Bash/Shell;C#;HTML/CSS;JavaScript;Perl;PowerShell;TypeScript       1\n",
       "Name: LanguageWantToWorkWith, Length: 23952, dtype: int64"
      ]
     },
     "execution_count": 103,
     "metadata": {},
     "output_type": "execute_result"
    }
   ],
   "source": [
    "df['LanguageWantToWorkWith'].value_counts()"
   ]
  },
  {
   "cell_type": "markdown",
   "id": "b61d2b67",
   "metadata": {},
   "source": [
    "Data cleaning \n",
    "- Using <code>Series.str.split()</code> to split the values to new columns in the dataframe.\n",
    "- Using <code>Stack()</code> to pivot the columns of the current dataframe\n",
    "- Displaying the first 10 values "
   ]
  },
  {
   "cell_type": "code",
   "execution_count": 104,
   "id": "7ca6e9b0",
   "metadata": {},
   "outputs": [
    {
     "data": {
      "text/plain": [
       "JavaScript    31551\n",
       "Python        29350\n",
       "TypeScript    26050\n",
       "HTML/CSS      25423\n",
       "SQL           24804\n",
       "Rust          17113\n",
       "C#            15681\n",
       "Go            15500\n",
       "Java          13345\n",
       "Bash/Shell    13242\n",
       "dtype: int64"
      ]
     },
     "execution_count": 104,
     "metadata": {},
     "output_type": "execute_result"
    }
   ],
   "source": [
    "LanguageWantToWorkWith = df['LanguageWantToWorkWith'].str.split(';', expand=True)\n",
    "LanguageWantToWorkWith.stack().value_counts().head(10)"
   ]
  },
  {
   "cell_type": "markdown",
   "id": "ea5f7f81",
   "metadata": {},
   "source": [
    "- Converted the series to a dataframe\n",
    "- reset the index"
   ]
  },
  {
   "cell_type": "code",
   "execution_count": 105,
   "id": "fbdd3a08",
   "metadata": {},
   "outputs": [
    {
     "data": {
      "text/html": [
       "<div>\n",
       "<style scoped>\n",
       "    .dataframe tbody tr th:only-of-type {\n",
       "        vertical-align: middle;\n",
       "    }\n",
       "\n",
       "    .dataframe tbody tr th {\n",
       "        vertical-align: top;\n",
       "    }\n",
       "\n",
       "    .dataframe thead th {\n",
       "        text-align: right;\n",
       "    }\n",
       "</style>\n",
       "<table border=\"1\" class=\"dataframe\">\n",
       "  <thead>\n",
       "    <tr style=\"text-align: right;\">\n",
       "      <th></th>\n",
       "      <th>index</th>\n",
       "      <th>0</th>\n",
       "    </tr>\n",
       "  </thead>\n",
       "  <tbody>\n",
       "    <tr>\n",
       "      <th>0</th>\n",
       "      <td>JavaScript</td>\n",
       "      <td>31551</td>\n",
       "    </tr>\n",
       "    <tr>\n",
       "      <th>1</th>\n",
       "      <td>Python</td>\n",
       "      <td>29350</td>\n",
       "    </tr>\n",
       "    <tr>\n",
       "      <th>2</th>\n",
       "      <td>TypeScript</td>\n",
       "      <td>26050</td>\n",
       "    </tr>\n",
       "    <tr>\n",
       "      <th>3</th>\n",
       "      <td>HTML/CSS</td>\n",
       "      <td>25423</td>\n",
       "    </tr>\n",
       "    <tr>\n",
       "      <th>4</th>\n",
       "      <td>SQL</td>\n",
       "      <td>24804</td>\n",
       "    </tr>\n",
       "    <tr>\n",
       "      <th>5</th>\n",
       "      <td>Rust</td>\n",
       "      <td>17113</td>\n",
       "    </tr>\n",
       "    <tr>\n",
       "      <th>6</th>\n",
       "      <td>C#</td>\n",
       "      <td>15681</td>\n",
       "    </tr>\n",
       "    <tr>\n",
       "      <th>7</th>\n",
       "      <td>Go</td>\n",
       "      <td>15500</td>\n",
       "    </tr>\n",
       "    <tr>\n",
       "      <th>8</th>\n",
       "      <td>Java</td>\n",
       "      <td>13345</td>\n",
       "    </tr>\n",
       "    <tr>\n",
       "      <th>9</th>\n",
       "      <td>Bash/Shell</td>\n",
       "      <td>13242</td>\n",
       "    </tr>\n",
       "  </tbody>\n",
       "</table>\n",
       "</div>"
      ],
      "text/plain": [
       "        index      0\n",
       "0  JavaScript  31551\n",
       "1      Python  29350\n",
       "2  TypeScript  26050\n",
       "3    HTML/CSS  25423\n",
       "4         SQL  24804\n",
       "5        Rust  17113\n",
       "6          C#  15681\n",
       "7          Go  15500\n",
       "8        Java  13345\n",
       "9  Bash/Shell  13242"
      ]
     },
     "execution_count": 105,
     "metadata": {},
     "output_type": "execute_result"
    }
   ],
   "source": [
    "df_langDesired = LanguageWantToWorkWith.stack().value_counts().head(10).to_frame()\n",
    "df_langDesired.reset_index(inplace=True)\n",
    "df_langDesired"
   ]
  },
  {
   "cell_type": "markdown",
   "id": "4183f6ec",
   "metadata": {},
   "source": [
    "- Renamed the columns appropriately"
   ]
  },
  {
   "cell_type": "code",
   "execution_count": 106,
   "id": "7ce8dc16",
   "metadata": {},
   "outputs": [
    {
     "data": {
      "text/html": [
       "<div>\n",
       "<style scoped>\n",
       "    .dataframe tbody tr th:only-of-type {\n",
       "        vertical-align: middle;\n",
       "    }\n",
       "\n",
       "    .dataframe tbody tr th {\n",
       "        vertical-align: top;\n",
       "    }\n",
       "\n",
       "    .dataframe thead th {\n",
       "        text-align: right;\n",
       "    }\n",
       "</style>\n",
       "<table border=\"1\" class=\"dataframe\">\n",
       "  <thead>\n",
       "    <tr style=\"text-align: right;\">\n",
       "      <th></th>\n",
       "      <th>Languages</th>\n",
       "      <th>Counts_lang_desired</th>\n",
       "    </tr>\n",
       "  </thead>\n",
       "  <tbody>\n",
       "    <tr>\n",
       "      <th>0</th>\n",
       "      <td>JavaScript</td>\n",
       "      <td>31551</td>\n",
       "    </tr>\n",
       "    <tr>\n",
       "      <th>1</th>\n",
       "      <td>Python</td>\n",
       "      <td>29350</td>\n",
       "    </tr>\n",
       "    <tr>\n",
       "      <th>2</th>\n",
       "      <td>TypeScript</td>\n",
       "      <td>26050</td>\n",
       "    </tr>\n",
       "    <tr>\n",
       "      <th>3</th>\n",
       "      <td>HTML/CSS</td>\n",
       "      <td>25423</td>\n",
       "    </tr>\n",
       "    <tr>\n",
       "      <th>4</th>\n",
       "      <td>SQL</td>\n",
       "      <td>24804</td>\n",
       "    </tr>\n",
       "    <tr>\n",
       "      <th>5</th>\n",
       "      <td>Rust</td>\n",
       "      <td>17113</td>\n",
       "    </tr>\n",
       "    <tr>\n",
       "      <th>6</th>\n",
       "      <td>C#</td>\n",
       "      <td>15681</td>\n",
       "    </tr>\n",
       "    <tr>\n",
       "      <th>7</th>\n",
       "      <td>Go</td>\n",
       "      <td>15500</td>\n",
       "    </tr>\n",
       "    <tr>\n",
       "      <th>8</th>\n",
       "      <td>Java</td>\n",
       "      <td>13345</td>\n",
       "    </tr>\n",
       "    <tr>\n",
       "      <th>9</th>\n",
       "      <td>Bash/Shell</td>\n",
       "      <td>13242</td>\n",
       "    </tr>\n",
       "  </tbody>\n",
       "</table>\n",
       "</div>"
      ],
      "text/plain": [
       "    Languages  Counts_lang_desired\n",
       "0  JavaScript                31551\n",
       "1      Python                29350\n",
       "2  TypeScript                26050\n",
       "3    HTML/CSS                25423\n",
       "4         SQL                24804\n",
       "5        Rust                17113\n",
       "6          C#                15681\n",
       "7          Go                15500\n",
       "8        Java                13345\n",
       "9  Bash/Shell                13242"
      ]
     },
     "execution_count": 106,
     "metadata": {},
     "output_type": "execute_result"
    }
   ],
   "source": [
    "df_langDesired.rename(columns = {'index': 'Languages',0:'Counts_lang_desired'}, inplace = True)\n",
    "df_langDesired"
   ]
  },
  {
   "cell_type": "markdown",
   "id": "b48724f7",
   "metadata": {},
   "source": [
    "- Merged both dataframes of the language used currently and the language desired by the respondents."
   ]
  },
  {
   "cell_type": "code",
   "execution_count": 107,
   "id": "6f05ef10",
   "metadata": {},
   "outputs": [
    {
     "data": {
      "text/html": [
       "<div>\n",
       "<style scoped>\n",
       "    .dataframe tbody tr th:only-of-type {\n",
       "        vertical-align: middle;\n",
       "    }\n",
       "\n",
       "    .dataframe tbody tr th {\n",
       "        vertical-align: top;\n",
       "    }\n",
       "\n",
       "    .dataframe thead th {\n",
       "        text-align: right;\n",
       "    }\n",
       "</style>\n",
       "<table border=\"1\" class=\"dataframe\">\n",
       "  <thead>\n",
       "    <tr style=\"text-align: right;\">\n",
       "      <th></th>\n",
       "      <th>Counts_lang_used</th>\n",
       "      <th>Counts_lang_desired</th>\n",
       "    </tr>\n",
       "    <tr>\n",
       "      <th>Languages</th>\n",
       "      <th></th>\n",
       "      <th></th>\n",
       "    </tr>\n",
       "  </thead>\n",
       "  <tbody>\n",
       "    <tr>\n",
       "      <th>JavaScript</th>\n",
       "      <td>46443.0</td>\n",
       "      <td>31551.0</td>\n",
       "    </tr>\n",
       "    <tr>\n",
       "      <th>HTML/CSS</th>\n",
       "      <td>39142.0</td>\n",
       "      <td>25423.0</td>\n",
       "    </tr>\n",
       "    <tr>\n",
       "      <th>SQL</th>\n",
       "      <td>35127.0</td>\n",
       "      <td>24804.0</td>\n",
       "    </tr>\n",
       "    <tr>\n",
       "      <th>Python</th>\n",
       "      <td>34155.0</td>\n",
       "      <td>29350.0</td>\n",
       "    </tr>\n",
       "    <tr>\n",
       "      <th>TypeScript</th>\n",
       "      <td>24752.0</td>\n",
       "      <td>26050.0</td>\n",
       "    </tr>\n",
       "    <tr>\n",
       "      <th>Java</th>\n",
       "      <td>23644.0</td>\n",
       "      <td>13345.0</td>\n",
       "    </tr>\n",
       "    <tr>\n",
       "      <th>Bash/Shell</th>\n",
       "      <td>20656.0</td>\n",
       "      <td>13242.0</td>\n",
       "    </tr>\n",
       "    <tr>\n",
       "      <th>C#</th>\n",
       "      <td>19883.0</td>\n",
       "      <td>15681.0</td>\n",
       "    </tr>\n",
       "    <tr>\n",
       "      <th>C++</th>\n",
       "      <td>16024.0</td>\n",
       "      <td>NaN</td>\n",
       "    </tr>\n",
       "    <tr>\n",
       "      <th>PHP</th>\n",
       "      <td>14827.0</td>\n",
       "      <td>NaN</td>\n",
       "    </tr>\n",
       "    <tr>\n",
       "      <th>Rust</th>\n",
       "      <td>NaN</td>\n",
       "      <td>17113.0</td>\n",
       "    </tr>\n",
       "    <tr>\n",
       "      <th>Go</th>\n",
       "      <td>NaN</td>\n",
       "      <td>15500.0</td>\n",
       "    </tr>\n",
       "  </tbody>\n",
       "</table>\n",
       "</div>"
      ],
      "text/plain": [
       "            Counts_lang_used  Counts_lang_desired\n",
       "Languages                                        \n",
       "JavaScript           46443.0              31551.0\n",
       "HTML/CSS             39142.0              25423.0\n",
       "SQL                  35127.0              24804.0\n",
       "Python               34155.0              29350.0\n",
       "TypeScript           24752.0              26050.0\n",
       "Java                 23644.0              13345.0\n",
       "Bash/Shell           20656.0              13242.0\n",
       "C#                   19883.0              15681.0\n",
       "C++                  16024.0                  NaN\n",
       "PHP                  14827.0                  NaN\n",
       "Rust                     NaN              17113.0\n",
       "Go                       NaN              15500.0"
      ]
     },
     "execution_count": 107,
     "metadata": {},
     "output_type": "execute_result"
    }
   ],
   "source": [
    "df_merged = df_langUsed.merge(df_langDesired, how='outer')\n",
    "df2 = df_merged.set_index('Languages')\n",
    "df2"
   ]
  },
  {
   "cell_type": "markdown",
   "id": "52a3108b",
   "metadata": {},
   "source": [
    "- Plot a column chart showing the currently used programming langauage and the desired languages."
   ]
  },
  {
   "cell_type": "code",
   "execution_count": 108,
   "id": "bca996db",
   "metadata": {},
   "outputs": [
    {
     "data": {
      "image/png": "[encoded data removed]",
      "text/plain": [
       "<Figure size 1400x600 with 1 Axes>"
      ]
     },
     "metadata": {},
     "output_type": "display_data"
    }
   ],
   "source": [
    "\n",
    "df2.plot.bar(width = 0.8, color=('darkblue','purple'), figsize=(14, 6));\n",
    "plt.title('Programming Languages Trend')\n",
    "plt.xlabel('Languages')\n",
    "plt.ylabel('Counts')\n",
    "plt.legend(['Language Used', 'Language Desired']);"
   ]
  },
  {
   "cell_type": "markdown",
   "id": "97b7a4be",
   "metadata": {},
   "source": [
    "<h4>Findings</h4>\n",
    "\n",
    "- Javascript and HTML/CSS were the most popular in 2022.\n",
    "- Javascript and Python are the most desired language in 2022.\n",
    "- SQL was popular in 2019 and will likely remain so. \n",
    "- Increasing interests TypeScript. \n",
    "- Decreasing interest in C++ and PHP\n",
    "- Rust and Go are becoming vastly desired"
   ]
  },
  {
   "cell_type": "markdown",
   "id": "26404499",
   "metadata": {},
   "source": [
    "<h4>Implications</h4>\n",
    "\n",
    "- Web development is still in high demand, and Javascript and HTML/CSS remain the dominant languages—however, TypeScript may catch up in the future. \n",
    "- SQL remains the preferred language for big data storage and querying—it’s not likely to go away anytime soon. \n",
    "- Python’s rising popularity likely reflects the growth of AI and ML work"
   ]
  },
  {
   "cell_type": "markdown",
   "id": "d65e70e9",
   "metadata": {},
   "source": [
    "<h3>3. Dasbese Trend</h3>"
   ]
  },
  {
   "cell_type": "markdown",
   "id": "2b7fe898",
   "metadata": {},
   "source": [
    "- To see the value counts of the Database currently used."
   ]
  },
  {
   "cell_type": "code",
   "execution_count": 64,
   "id": "568992d7",
   "metadata": {},
   "outputs": [
    {
     "data": {
      "text/plain": [
       "MySQL                                                                3563\n",
       "PostgreSQL                                                           3519\n",
       "Microsoft SQL Server                                                 3238\n",
       "SQLite                                                               2022\n",
       "MongoDB                                                              1655\n",
       "                                                                     ... \n",
       "Elasticsearch;IBM DB2;MongoDB;MySQL                                     1\n",
       "Cloud Firestore;Microsoft SQL Server;MongoDB;MySQL;Neo4j                1\n",
       "Cloud Firestore;MongoDB;Oracle;PostgreSQL;Redis;SQLite                  1\n",
       "MariaDB;Microsoft SQL Server;MySQL;Neo4j;Oracle;PostgreSQL;SQLite       1\n",
       "Microsoft SQL Server;Neo4j;Redis                                        1\n",
       "Name: DatabaseHaveWorkedWith, Length: 4223, dtype: int64"
      ]
     },
     "execution_count": 64,
     "metadata": {},
     "output_type": "execute_result"
    }
   ],
   "source": [
    "df['DatabaseHaveWorkedWith'].value_counts()"
   ]
  },
  {
   "cell_type": "markdown",
   "id": "e936d7d7",
   "metadata": {},
   "source": [
    "Data cleaning \n",
    "- Using <code>Series.str.split()</code> to split the values to new columns in the dataframe.\n",
    "- Using <code>Stack()</code> to pivot the columns of the current dataframe\n",
    "- Displaying the first 10 values "
   ]
  },
  {
   "cell_type": "code",
   "execution_count": 65,
   "id": "4e7b4981",
   "metadata": {},
   "outputs": [
    {
     "data": {
      "text/plain": [
       "MySQL                         28520\n",
       "PostgreSQL                    26538\n",
       "SQLite                        19487\n",
       "MongoDB                       17228\n",
       "Microsoft SQL Server          16355\n",
       "Redis                         13471\n",
       "MariaDB                       10912\n",
       "Elasticsearch                  7430\n",
       "Oracle                         6994\n",
       "Firebase Realtime Database     5309\n",
       "dtype: int64"
      ]
     },
     "execution_count": 65,
     "metadata": {},
     "output_type": "execute_result"
    }
   ],
   "source": [
    "DatabaseHaveWorkedWith = df['DatabaseHaveWorkedWith'].str.split(';', expand=True)\n",
    "DatabaseHaveWorkedWith.stack().value_counts().head(10)"
   ]
  },
  {
   "cell_type": "markdown",
   "id": "7bb65b5f",
   "metadata": {},
   "source": [
    "- Converted the series to a dataframe\n",
    "- reset the index"
   ]
  },
  {
   "cell_type": "code",
   "execution_count": 66,
   "id": "dafc5f68",
   "metadata": {},
   "outputs": [
    {
     "data": {
      "text/html": [
       "<div>\n",
       "<style scoped>\n",
       "    .dataframe tbody tr th:only-of-type {\n",
       "        vertical-align: middle;\n",
       "    }\n",
       "\n",
       "    .dataframe tbody tr th {\n",
       "        vertical-align: top;\n",
       "    }\n",
       "\n",
       "    .dataframe thead th {\n",
       "        text-align: right;\n",
       "    }\n",
       "</style>\n",
       "<table border=\"1\" class=\"dataframe\">\n",
       "  <thead>\n",
       "    <tr style=\"text-align: right;\">\n",
       "      <th></th>\n",
       "      <th>index</th>\n",
       "      <th>0</th>\n",
       "    </tr>\n",
       "  </thead>\n",
       "  <tbody>\n",
       "    <tr>\n",
       "      <th>0</th>\n",
       "      <td>MySQL</td>\n",
       "      <td>28520</td>\n",
       "    </tr>\n",
       "    <tr>\n",
       "      <th>1</th>\n",
       "      <td>PostgreSQL</td>\n",
       "      <td>26538</td>\n",
       "    </tr>\n",
       "    <tr>\n",
       "      <th>2</th>\n",
       "      <td>SQLite</td>\n",
       "      <td>19487</td>\n",
       "    </tr>\n",
       "    <tr>\n",
       "      <th>3</th>\n",
       "      <td>MongoDB</td>\n",
       "      <td>17228</td>\n",
       "    </tr>\n",
       "    <tr>\n",
       "      <th>4</th>\n",
       "      <td>Microsoft SQL Server</td>\n",
       "      <td>16355</td>\n",
       "    </tr>\n",
       "    <tr>\n",
       "      <th>5</th>\n",
       "      <td>Redis</td>\n",
       "      <td>13471</td>\n",
       "    </tr>\n",
       "    <tr>\n",
       "      <th>6</th>\n",
       "      <td>MariaDB</td>\n",
       "      <td>10912</td>\n",
       "    </tr>\n",
       "    <tr>\n",
       "      <th>7</th>\n",
       "      <td>Elasticsearch</td>\n",
       "      <td>7430</td>\n",
       "    </tr>\n",
       "    <tr>\n",
       "      <th>8</th>\n",
       "      <td>Oracle</td>\n",
       "      <td>6994</td>\n",
       "    </tr>\n",
       "    <tr>\n",
       "      <th>9</th>\n",
       "      <td>Firebase Realtime Database</td>\n",
       "      <td>5309</td>\n",
       "    </tr>\n",
       "  </tbody>\n",
       "</table>\n",
       "</div>"
      ],
      "text/plain": [
       "                        index      0\n",
       "0                       MySQL  28520\n",
       "1                  PostgreSQL  26538\n",
       "2                      SQLite  19487\n",
       "3                     MongoDB  17228\n",
       "4        Microsoft SQL Server  16355\n",
       "5                       Redis  13471\n",
       "6                     MariaDB  10912\n",
       "7               Elasticsearch   7430\n",
       "8                      Oracle   6994\n",
       "9  Firebase Realtime Database   5309"
      ]
     },
     "execution_count": 66,
     "metadata": {},
     "output_type": "execute_result"
    }
   ],
   "source": [
    "df_datab_used = DatabaseHaveWorkedWith.stack().value_counts().head(10).to_frame()\n",
    "df_datab_used.reset_index(inplace=True)\n",
    "df_datab_used"
   ]
  },
  {
   "cell_type": "markdown",
   "id": "d913c94e",
   "metadata": {},
   "source": [
    "- Renamed the columns appropriately "
   ]
  },
  {
   "cell_type": "code",
   "execution_count": 67,
   "id": "c602194b",
   "metadata": {},
   "outputs": [
    {
     "data": {
      "text/html": [
       "<div>\n",
       "<style scoped>\n",
       "    .dataframe tbody tr th:only-of-type {\n",
       "        vertical-align: middle;\n",
       "    }\n",
       "\n",
       "    .dataframe tbody tr th {\n",
       "        vertical-align: top;\n",
       "    }\n",
       "\n",
       "    .dataframe thead th {\n",
       "        text-align: right;\n",
       "    }\n",
       "</style>\n",
       "<table border=\"1\" class=\"dataframe\">\n",
       "  <thead>\n",
       "    <tr style=\"text-align: right;\">\n",
       "      <th></th>\n",
       "      <th>Databases</th>\n",
       "      <th>Counts_datab_used</th>\n",
       "    </tr>\n",
       "  </thead>\n",
       "  <tbody>\n",
       "    <tr>\n",
       "      <th>0</th>\n",
       "      <td>MySQL</td>\n",
       "      <td>28520</td>\n",
       "    </tr>\n",
       "    <tr>\n",
       "      <th>1</th>\n",
       "      <td>PostgreSQL</td>\n",
       "      <td>26538</td>\n",
       "    </tr>\n",
       "    <tr>\n",
       "      <th>2</th>\n",
       "      <td>SQLite</td>\n",
       "      <td>19487</td>\n",
       "    </tr>\n",
       "    <tr>\n",
       "      <th>3</th>\n",
       "      <td>MongoDB</td>\n",
       "      <td>17228</td>\n",
       "    </tr>\n",
       "    <tr>\n",
       "      <th>4</th>\n",
       "      <td>Microsoft SQL Server</td>\n",
       "      <td>16355</td>\n",
       "    </tr>\n",
       "    <tr>\n",
       "      <th>5</th>\n",
       "      <td>Redis</td>\n",
       "      <td>13471</td>\n",
       "    </tr>\n",
       "    <tr>\n",
       "      <th>6</th>\n",
       "      <td>MariaDB</td>\n",
       "      <td>10912</td>\n",
       "    </tr>\n",
       "    <tr>\n",
       "      <th>7</th>\n",
       "      <td>Elasticsearch</td>\n",
       "      <td>7430</td>\n",
       "    </tr>\n",
       "    <tr>\n",
       "      <th>8</th>\n",
       "      <td>Oracle</td>\n",
       "      <td>6994</td>\n",
       "    </tr>\n",
       "    <tr>\n",
       "      <th>9</th>\n",
       "      <td>Firebase Realtime Database</td>\n",
       "      <td>5309</td>\n",
       "    </tr>\n",
       "  </tbody>\n",
       "</table>\n",
       "</div>"
      ],
      "text/plain": [
       "                    Databases  Counts_datab_used\n",
       "0                       MySQL              28520\n",
       "1                  PostgreSQL              26538\n",
       "2                      SQLite              19487\n",
       "3                     MongoDB              17228\n",
       "4        Microsoft SQL Server              16355\n",
       "5                       Redis              13471\n",
       "6                     MariaDB              10912\n",
       "7               Elasticsearch               7430\n",
       "8                      Oracle               6994\n",
       "9  Firebase Realtime Database               5309"
      ]
     },
     "execution_count": 67,
     "metadata": {},
     "output_type": "execute_result"
    }
   ],
   "source": [
    "df_datab_used.rename(columns = {'index': 'Databases',0:'Counts_datab_used'}, inplace = True)\n",
    "df_datab_used"
   ]
  },
  {
   "cell_type": "markdown",
   "id": "4254ba61",
   "metadata": {},
   "source": [
    "- To see the value counts of the Database desired."
   ]
  },
  {
   "cell_type": "code",
   "execution_count": 68,
   "id": "c50353e4",
   "metadata": {},
   "outputs": [
    {
     "data": {
      "text/plain": [
       "PostgreSQL                                                                                           3994\n",
       "Microsoft SQL Server                                                                                 2025\n",
       "MongoDB                                                                                              1850\n",
       "MySQL                                                                                                1806\n",
       "SQLite                                                                                               1532\n",
       "                                                                                                     ... \n",
       "Cloud Firestore;IBM DB2;MongoDB;PostgreSQL;Redis                                                        1\n",
       "Couchbase;MongoDB;Oracle;PostgreSQL                                                                     1\n",
       "Cassandra;DynamoDB;Elasticsearch;MariaDB;Microsoft SQL Server;MongoDB;MySQL;PostgreSQL;Redis            1\n",
       "Cassandra;DynamoDB;Elasticsearch;MongoDB;MySQL;Neo4j;PostgreSQL;Firebase Realtime Database;SQLite       1\n",
       "Cassandra;Elasticsearch;MariaDB;MongoDB;MySQL;PostgreSQL                                                1\n",
       "Name: DatabaseWantToWorkWith, Length: 4291, dtype: int64"
      ]
     },
     "execution_count": 68,
     "metadata": {},
     "output_type": "execute_result"
    }
   ],
   "source": [
    "df['DatabaseWantToWorkWith'].value_counts()"
   ]
  },
  {
   "cell_type": "markdown",
   "id": "3daed0f8",
   "metadata": {},
   "source": [
    "Data cleaning \n",
    "- Using <code>Series.str.split()</code> to split the values to new columns in the dataframe.\n",
    "- Using <code>Stack()</code> to pivot the columns of the current dataframe\n",
    "- Displaying the first 10 values "
   ]
  },
  {
   "cell_type": "code",
   "execution_count": 69,
   "id": "e7cdd4b0",
   "metadata": {},
   "outputs": [
    {
     "data": {
      "text/plain": [
       "PostgreSQL                    25212\n",
       "MongoDB                       17297\n",
       "MySQL                         16271\n",
       "Redis                         16211\n",
       "SQLite                        14085\n",
       "Microsoft SQL Server           9867\n",
       "Elasticsearch                  8533\n",
       "MariaDB                        7181\n",
       "Firebase Realtime Database     5312\n",
       "DynamoDB                       5309\n",
       "dtype: int64"
      ]
     },
     "execution_count": 69,
     "metadata": {},
     "output_type": "execute_result"
    }
   ],
   "source": [
    "DatabaseDesired = df['DatabaseWantToWorkWith'].str.split(';', expand=True)\n",
    "DatabaseDesired.stack().value_counts().head(10)"
   ]
  },
  {
   "cell_type": "markdown",
   "id": "68260629",
   "metadata": {},
   "source": [
    "- Converted the series to a dataframe\n",
    "- reset the index"
   ]
  },
  {
   "cell_type": "code",
   "execution_count": 70,
   "id": "ed934936",
   "metadata": {},
   "outputs": [
    {
     "data": {
      "text/html": [
       "<div>\n",
       "<style scoped>\n",
       "    .dataframe tbody tr th:only-of-type {\n",
       "        vertical-align: middle;\n",
       "    }\n",
       "\n",
       "    .dataframe tbody tr th {\n",
       "        vertical-align: top;\n",
       "    }\n",
       "\n",
       "    .dataframe thead th {\n",
       "        text-align: right;\n",
       "    }\n",
       "</style>\n",
       "<table border=\"1\" class=\"dataframe\">\n",
       "  <thead>\n",
       "    <tr style=\"text-align: right;\">\n",
       "      <th></th>\n",
       "      <th>index</th>\n",
       "      <th>0</th>\n",
       "    </tr>\n",
       "  </thead>\n",
       "  <tbody>\n",
       "    <tr>\n",
       "      <th>0</th>\n",
       "      <td>PostgreSQL</td>\n",
       "      <td>25212</td>\n",
       "    </tr>\n",
       "    <tr>\n",
       "      <th>1</th>\n",
       "      <td>MongoDB</td>\n",
       "      <td>17297</td>\n",
       "    </tr>\n",
       "    <tr>\n",
       "      <th>2</th>\n",
       "      <td>MySQL</td>\n",
       "      <td>16271</td>\n",
       "    </tr>\n",
       "    <tr>\n",
       "      <th>3</th>\n",
       "      <td>Redis</td>\n",
       "      <td>16211</td>\n",
       "    </tr>\n",
       "    <tr>\n",
       "      <th>4</th>\n",
       "      <td>SQLite</td>\n",
       "      <td>14085</td>\n",
       "    </tr>\n",
       "    <tr>\n",
       "      <th>5</th>\n",
       "      <td>Microsoft SQL Server</td>\n",
       "      <td>9867</td>\n",
       "    </tr>\n",
       "    <tr>\n",
       "      <th>6</th>\n",
       "      <td>Elasticsearch</td>\n",
       "      <td>8533</td>\n",
       "    </tr>\n",
       "    <tr>\n",
       "      <th>7</th>\n",
       "      <td>MariaDB</td>\n",
       "      <td>7181</td>\n",
       "    </tr>\n",
       "    <tr>\n",
       "      <th>8</th>\n",
       "      <td>Firebase Realtime Database</td>\n",
       "      <td>5312</td>\n",
       "    </tr>\n",
       "    <tr>\n",
       "      <th>9</th>\n",
       "      <td>DynamoDB</td>\n",
       "      <td>5309</td>\n",
       "    </tr>\n",
       "  </tbody>\n",
       "</table>\n",
       "</div>"
      ],
      "text/plain": [
       "                        index      0\n",
       "0                  PostgreSQL  25212\n",
       "1                     MongoDB  17297\n",
       "2                       MySQL  16271\n",
       "3                       Redis  16211\n",
       "4                      SQLite  14085\n",
       "5        Microsoft SQL Server   9867\n",
       "6               Elasticsearch   8533\n",
       "7                     MariaDB   7181\n",
       "8  Firebase Realtime Database   5312\n",
       "9                    DynamoDB   5309"
      ]
     },
     "execution_count": 70,
     "metadata": {},
     "output_type": "execute_result"
    }
   ],
   "source": [
    "df_datab_desired = DatabaseDesired.stack().value_counts().head(10).to_frame()\n",
    "df_datab_desired.reset_index(inplace=True)\n",
    "df_datab_desired"
   ]
  },
  {
   "cell_type": "markdown",
   "id": "7a909def",
   "metadata": {},
   "source": [
    "- Renamed the columns appropriately "
   ]
  },
  {
   "cell_type": "code",
   "execution_count": 71,
   "id": "c3b8c971",
   "metadata": {},
   "outputs": [
    {
     "data": {
      "text/html": [
       "<div>\n",
       "<style scoped>\n",
       "    .dataframe tbody tr th:only-of-type {\n",
       "        vertical-align: middle;\n",
       "    }\n",
       "\n",
       "    .dataframe tbody tr th {\n",
       "        vertical-align: top;\n",
       "    }\n",
       "\n",
       "    .dataframe thead th {\n",
       "        text-align: right;\n",
       "    }\n",
       "</style>\n",
       "<table border=\"1\" class=\"dataframe\">\n",
       "  <thead>\n",
       "    <tr style=\"text-align: right;\">\n",
       "      <th></th>\n",
       "      <th>Databases</th>\n",
       "      <th>Counts_datab_desired</th>\n",
       "    </tr>\n",
       "  </thead>\n",
       "  <tbody>\n",
       "    <tr>\n",
       "      <th>0</th>\n",
       "      <td>PostgreSQL</td>\n",
       "      <td>25212</td>\n",
       "    </tr>\n",
       "    <tr>\n",
       "      <th>1</th>\n",
       "      <td>MongoDB</td>\n",
       "      <td>17297</td>\n",
       "    </tr>\n",
       "    <tr>\n",
       "      <th>2</th>\n",
       "      <td>MySQL</td>\n",
       "      <td>16271</td>\n",
       "    </tr>\n",
       "    <tr>\n",
       "      <th>3</th>\n",
       "      <td>Redis</td>\n",
       "      <td>16211</td>\n",
       "    </tr>\n",
       "    <tr>\n",
       "      <th>4</th>\n",
       "      <td>SQLite</td>\n",
       "      <td>14085</td>\n",
       "    </tr>\n",
       "    <tr>\n",
       "      <th>5</th>\n",
       "      <td>Microsoft SQL Server</td>\n",
       "      <td>9867</td>\n",
       "    </tr>\n",
       "    <tr>\n",
       "      <th>6</th>\n",
       "      <td>Elasticsearch</td>\n",
       "      <td>8533</td>\n",
       "    </tr>\n",
       "    <tr>\n",
       "      <th>7</th>\n",
       "      <td>MariaDB</td>\n",
       "      <td>7181</td>\n",
       "    </tr>\n",
       "    <tr>\n",
       "      <th>8</th>\n",
       "      <td>Firebase Realtime Database</td>\n",
       "      <td>5312</td>\n",
       "    </tr>\n",
       "    <tr>\n",
       "      <th>9</th>\n",
       "      <td>DynamoDB</td>\n",
       "      <td>5309</td>\n",
       "    </tr>\n",
       "  </tbody>\n",
       "</table>\n",
       "</div>"
      ],
      "text/plain": [
       "                    Databases  Counts_datab_desired\n",
       "0                  PostgreSQL                 25212\n",
       "1                     MongoDB                 17297\n",
       "2                       MySQL                 16271\n",
       "3                       Redis                 16211\n",
       "4                      SQLite                 14085\n",
       "5        Microsoft SQL Server                  9867\n",
       "6               Elasticsearch                  8533\n",
       "7                     MariaDB                  7181\n",
       "8  Firebase Realtime Database                  5312\n",
       "9                    DynamoDB                  5309"
      ]
     },
     "execution_count": 71,
     "metadata": {},
     "output_type": "execute_result"
    }
   ],
   "source": [
    "df_datab_desired.rename(columns = {'index': 'Databases',0:'Counts_datab_desired'}, inplace = True)\n",
    "df_datab_desired"
   ]
  },
  {
   "cell_type": "markdown",
   "id": "bc9c27ea",
   "metadata": {},
   "source": [
    "- Merged both dataframes of the Database used currently and the Database desired by the respondents."
   ]
  },
  {
   "cell_type": "code",
   "execution_count": 72,
   "id": "0c17a0c6",
   "metadata": {},
   "outputs": [
    {
     "data": {
      "text/html": [
       "<div>\n",
       "<style scoped>\n",
       "    .dataframe tbody tr th:only-of-type {\n",
       "        vertical-align: middle;\n",
       "    }\n",
       "\n",
       "    .dataframe tbody tr th {\n",
       "        vertical-align: top;\n",
       "    }\n",
       "\n",
       "    .dataframe thead th {\n",
       "        text-align: right;\n",
       "    }\n",
       "</style>\n",
       "<table border=\"1\" class=\"dataframe\">\n",
       "  <thead>\n",
       "    <tr style=\"text-align: right;\">\n",
       "      <th></th>\n",
       "      <th>Databases</th>\n",
       "      <th>Counts_datab_used</th>\n",
       "      <th>Counts_datab_desired</th>\n",
       "    </tr>\n",
       "  </thead>\n",
       "  <tbody>\n",
       "    <tr>\n",
       "      <th>0</th>\n",
       "      <td>MySQL</td>\n",
       "      <td>28520.0</td>\n",
       "      <td>16271.0</td>\n",
       "    </tr>\n",
       "    <tr>\n",
       "      <th>1</th>\n",
       "      <td>PostgreSQL</td>\n",
       "      <td>26538.0</td>\n",
       "      <td>25212.0</td>\n",
       "    </tr>\n",
       "    <tr>\n",
       "      <th>2</th>\n",
       "      <td>SQLite</td>\n",
       "      <td>19487.0</td>\n",
       "      <td>14085.0</td>\n",
       "    </tr>\n",
       "    <tr>\n",
       "      <th>3</th>\n",
       "      <td>MongoDB</td>\n",
       "      <td>17228.0</td>\n",
       "      <td>17297.0</td>\n",
       "    </tr>\n",
       "    <tr>\n",
       "      <th>4</th>\n",
       "      <td>Microsoft SQL Server</td>\n",
       "      <td>16355.0</td>\n",
       "      <td>9867.0</td>\n",
       "    </tr>\n",
       "    <tr>\n",
       "      <th>5</th>\n",
       "      <td>Redis</td>\n",
       "      <td>13471.0</td>\n",
       "      <td>16211.0</td>\n",
       "    </tr>\n",
       "    <tr>\n",
       "      <th>6</th>\n",
       "      <td>MariaDB</td>\n",
       "      <td>10912.0</td>\n",
       "      <td>7181.0</td>\n",
       "    </tr>\n",
       "    <tr>\n",
       "      <th>7</th>\n",
       "      <td>Elasticsearch</td>\n",
       "      <td>7430.0</td>\n",
       "      <td>8533.0</td>\n",
       "    </tr>\n",
       "    <tr>\n",
       "      <th>8</th>\n",
       "      <td>Oracle</td>\n",
       "      <td>6994.0</td>\n",
       "      <td>NaN</td>\n",
       "    </tr>\n",
       "    <tr>\n",
       "      <th>9</th>\n",
       "      <td>Firebase Realtime Database</td>\n",
       "      <td>5309.0</td>\n",
       "      <td>5312.0</td>\n",
       "    </tr>\n",
       "    <tr>\n",
       "      <th>10</th>\n",
       "      <td>DynamoDB</td>\n",
       "      <td>NaN</td>\n",
       "      <td>5309.0</td>\n",
       "    </tr>\n",
       "  </tbody>\n",
       "</table>\n",
       "</div>"
      ],
      "text/plain": [
       "                     Databases  Counts_datab_used  Counts_datab_desired\n",
       "0                        MySQL            28520.0               16271.0\n",
       "1                   PostgreSQL            26538.0               25212.0\n",
       "2                       SQLite            19487.0               14085.0\n",
       "3                      MongoDB            17228.0               17297.0\n",
       "4         Microsoft SQL Server            16355.0                9867.0\n",
       "5                        Redis            13471.0               16211.0\n",
       "6                      MariaDB            10912.0                7181.0\n",
       "7                Elasticsearch             7430.0                8533.0\n",
       "8                       Oracle             6994.0                   NaN\n",
       "9   Firebase Realtime Database             5309.0                5312.0\n",
       "10                    DynamoDB                NaN                5309.0"
      ]
     },
     "execution_count": 72,
     "metadata": {},
     "output_type": "execute_result"
    }
   ],
   "source": [
    "df_database_merged = df_datab_used.merge(df_datab_desired, how='outer')\n",
    "df_database_merged\n"
   ]
  },
  {
   "cell_type": "markdown",
   "id": "0788297a",
   "metadata": {},
   "source": [
    "- Assigned to new variables the columns of the dataframes to make it easier to normalize"
   ]
  },
  {
   "cell_type": "code",
   "execution_count": 73,
   "id": "95bdc8c0",
   "metadata": {},
   "outputs": [],
   "source": [
    "Databases = df_database_merged['Databases']\n",
    "Database_used = df_database_merged['Counts_datab_used']\n",
    "Database_desired = df_database_merged['Counts_datab_desired']"
   ]
  },
  {
   "cell_type": "markdown",
   "id": "0ae8e992",
   "metadata": {},
   "source": [
    "- Normalized the Data to bring the data in a similar range.\n",
    "- Database_used and Database_desired data have different ranges.\n",
    "- Need to bring them to the range from 0 to 1. \n",
    "- Divided the Database_used data by the maximum value of the Database_used data series and same to the data Series of Database_desired."
   ]
  },
  {
   "cell_type": "code",
   "execution_count": 74,
   "id": "e908cca2",
   "metadata": {},
   "outputs": [],
   "source": [
    "i_normal = Database_used / Database_used.max()\n",
    "b_normal = Database_desired / Database_desired.max()"
   ]
  },
  {
   "cell_type": "markdown",
   "id": "af7fdf62",
   "metadata": {},
   "source": [
    "- Plot a bubble chart showing the database trend of both databases in used and desired by the respondents."
   ]
  },
  {
   "cell_type": "code",
   "execution_count": 55,
   "id": "b70df8b0",
   "metadata": {},
   "outputs": [
    {
     "data": {
      "image/png": "[encoded data removed]",
      "text/plain": [
       "<Figure size 1400x600 with 1 Axes>"
      ]
     },
     "metadata": {},
     "output_type": "display_data"
    }
   ],
   "source": [
    "plt.figure(figsize=(14, 6))\n",
    "plt.scatter(Databases, Database_used, \n",
    "                  color='darkblue', \n",
    "                 alpha=0.5,\n",
    "                 s = b_normal * 2000)\n",
    "plt.scatter(Databases, Database_desired, \n",
    "                  color='purple', \n",
    "                 alpha=0.5,\n",
    "                 s = i_normal * 2000,\n",
    "                 )\n",
    "plt.xlabel(\"Databases\", size=14)\n",
    "plt.ylabel(\"Counts\", size=14)\n",
    "plt.title('Databases Trend')\n",
    "plt.legend(['Databases Used', 'Databases Desired']);"
   ]
  },
  {
   "cell_type": "markdown",
   "id": "81c25f41",
   "metadata": {},
   "source": [
    "<h4>Findings</h4>\n",
    "\n",
    "- SQL database programs were the most popular in 2022, with MySQL in the lead. \n",
    "- PostgreSQL is gaining popularity over other SQL database programs, and it was the overall most desired database for the next year.\n",
    "- MongoDB has the same value currently and desired. \n",
    "- Increasing interest in Redis.\n"
   ]
  },
  {
   "cell_type": "markdown",
   "id": "c3bc6bc9",
   "metadata": {},
   "source": [
    "<h4>Implications</h4>\n",
    "\n",
    "- There appears to be increasing developer preference toward open-source database programs. \n",
    "- NoSQL database programs are gaining popularity, which likely reflects a growing need to handle nonrelational and unstructured data. \n",
    "- Current and aspiring data analysts should develop competence in NoSQL in addition to SQL database programs.\n"
   ]
  },
  {
   "cell_type": "markdown",
   "id": "7899c541",
   "metadata": {},
   "source": [
    "<h3>4. To visualize the Countries of the respondents</h3>"
   ]
  },
  {
   "cell_type": "markdown",
   "id": "2250301e",
   "metadata": {},
   "source": [
    "- Assigned the value counts of the Country column to a varable.\n"
   ]
  },
  {
   "cell_type": "code",
   "execution_count": 68,
   "id": "4c3a2b31",
   "metadata": {},
   "outputs": [
    {
     "data": {
      "text/html": [
       "<div>\n",
       "<style scoped>\n",
       "    .dataframe tbody tr th:only-of-type {\n",
       "        vertical-align: middle;\n",
       "    }\n",
       "\n",
       "    .dataframe tbody tr th {\n",
       "        vertical-align: top;\n",
       "    }\n",
       "\n",
       "    .dataframe thead th {\n",
       "        text-align: right;\n",
       "    }\n",
       "</style>\n",
       "<table border=\"1\" class=\"dataframe\">\n",
       "  <thead>\n",
       "    <tr style=\"text-align: right;\">\n",
       "      <th></th>\n",
       "      <th>Country</th>\n",
       "    </tr>\n",
       "  </thead>\n",
       "  <tbody>\n",
       "    <tr>\n",
       "      <th>United States of America</th>\n",
       "      <td>13543</td>\n",
       "    </tr>\n",
       "    <tr>\n",
       "      <th>India</th>\n",
       "      <td>6639</td>\n",
       "    </tr>\n",
       "    <tr>\n",
       "      <th>Germany</th>\n",
       "      <td>5395</td>\n",
       "    </tr>\n",
       "    <tr>\n",
       "      <th>United Kingdom of Great Britain and Northern Ireland</th>\n",
       "      <td>4190</td>\n",
       "    </tr>\n",
       "    <tr>\n",
       "      <th>Canada</th>\n",
       "      <td>2490</td>\n",
       "    </tr>\n",
       "    <tr>\n",
       "      <th>...</th>\n",
       "      <td>...</td>\n",
       "    </tr>\n",
       "    <tr>\n",
       "      <th>Monaco</th>\n",
       "      <td>1</td>\n",
       "    </tr>\n",
       "    <tr>\n",
       "      <th>Djibouti</th>\n",
       "      <td>1</td>\n",
       "    </tr>\n",
       "    <tr>\n",
       "      <th>Seychelles</th>\n",
       "      <td>1</td>\n",
       "    </tr>\n",
       "    <tr>\n",
       "      <th>Solomon Islands</th>\n",
       "      <td>1</td>\n",
       "    </tr>\n",
       "    <tr>\n",
       "      <th>Saint Kitts and Nevis</th>\n",
       "      <td>1</td>\n",
       "    </tr>\n",
       "  </tbody>\n",
       "</table>\n",
       "<p>180 rows × 1 columns</p>\n",
       "</div>"
      ],
      "text/plain": [
       "                                                    Country\n",
       "United States of America                              13543\n",
       "India                                                  6639\n",
       "Germany                                                5395\n",
       "United Kingdom of Great Britain and Northern Ir...     4190\n",
       "Canada                                                 2490\n",
       "...                                                     ...\n",
       "Monaco                                                    1\n",
       "Djibouti                                                  1\n",
       "Seychelles                                                1\n",
       "Solomon Islands                                           1\n",
       "Saint Kitts and Nevis                                     1\n",
       "\n",
       "[180 rows x 1 columns]"
      ]
     },
     "execution_count": 68,
     "metadata": {},
     "output_type": "execute_result"
    }
   ],
   "source": [
    "df_countries = pd.DataFrame(df['Country'].value_counts())\n",
    "df_countries"
   ]
  },
  {
   "cell_type": "markdown",
   "id": "9e98b55b",
   "metadata": {},
   "source": [
    "- Install <code>iso3166</code> package to get the countries ISO codes"
   ]
  },
  {
   "cell_type": "code",
   "execution_count": 75,
   "id": "75bd5cf9",
   "metadata": {},
   "outputs": [
    {
     "name": "stdout",
     "output_type": "stream",
     "text": [
      "Requirement already satisfied: iso3166 in ./opt/anaconda3/lib/python3.9/site-packages (2.1.1)\n",
      "Note: you may need to restart the kernel to use updated packages.\n"
     ]
    }
   ],
   "source": [
    "pip install iso3166"
   ]
  },
  {
   "cell_type": "markdown",
   "id": "80e937f3",
   "metadata": {},
   "source": [
    "- Created a country index to map the country names used in the developer survey to the ISO 3166-1 country codes that identify countries in the geographic data used later for plotting the map. Then show the names that could not be mapped with the iso3166 package."
   ]
  },
  {
   "cell_type": "code",
   "execution_count": 73,
   "id": "b4528204",
   "metadata": {},
   "outputs": [
    {
     "data": {
      "text/plain": [
       "{'Bolivia',\n",
       " 'Cape Verde',\n",
       " 'Congo, Republic of the...',\n",
       " 'Czech Republic',\n",
       " 'Democratic Republic of the Congo',\n",
       " 'Hong Kong (S.A.R.)',\n",
       " 'Iran, Islamic Republic of...',\n",
       " 'Libyan Arab Jamahiriya',\n",
       " 'Nomadic',\n",
       " 'North Korea',\n",
       " 'Republic of Korea',\n",
       " 'Republic of Moldova',\n",
       " 'South Korea',\n",
       " 'Swaziland',\n",
       " 'The former Yugoslav Republic of Macedonia',\n",
       " 'Turkey',\n",
       " 'United Republic of Tanzania',\n",
       " 'Venezuela, Bolivarian Republic of...'}"
      ]
     },
     "execution_count": 73,
     "metadata": {},
     "output_type": "execute_result"
    }
   ],
   "source": [
    "from iso3166 import countries\n",
    "\n",
    "country_index = {name: countries.get(name).alpha3 for name in df_countries.index if name in countries}\n",
    "set(df_countries.index) - set(country_index)"
   ]
  },
  {
   "cell_type": "markdown",
   "id": "9e1987be",
   "metadata": {},
   "source": [
    "Add the missing ISO codes manually to the index."
   ]
  },
  {
   "cell_type": "code",
   "execution_count": 74,
   "id": "5b9d52ee",
   "metadata": {},
   "outputs": [
    {
     "data": {
      "text/plain": [
       "PRK    2\n",
       "GBR    2\n",
       "KOR    2\n",
       "IMN    1\n",
       "CIV    1\n",
       "dtype: int64"
      ]
     },
     "execution_count": 74,
     "metadata": {},
     "output_type": "execute_result"
    }
   ],
   "source": [
    "from collections import Counter\n",
    "\n",
    "country_index.update({\n",
    "    'Bolivia': 'BOL',\n",
    "    'Cape Verde': 'CPV',\n",
    "    'Congo, Republic of the...': 'COG',\n",
    "    'Czech Republic': 'CZE',\n",
    "    \"Democratic People's Republic of Korea\": 'PRK',\n",
    "    'Democratic Republic of the Congo': 'COD',\n",
    "    'Hong Kong (S.A.R.)': 'HKG',\n",
    "    'Iran, Islamic Republic of...': 'IRN',\n",
    "    'Libyan Arab Jamahiriya': 'LBY',\n",
    "    'Micronesia, Federated States of...': 'FSM',\n",
    "    'North Korea': 'PRK',\n",
    "    'Republic of Korea': 'KOR',\n",
    "    'Republic of Moldova': 'MDA',\n",
    "    'South Korea': 'KOR',\n",
    "    'The former Yugoslav Republic of Macedonia': 'MKD',\n",
    "    'United Kingdom': 'GBR',\n",
    "    'United Republic of Tanzania': 'TZA',\n",
    "    'Venezuela, Bolivarian Republic of...': 'VEN'\n",
    "})\n",
    "\n",
    "pd.Series(country_index).value_counts().head()"
   ]
  },
  {
   "cell_type": "markdown",
   "id": "1017e5e1",
   "metadata": {},
   "source": [
    "- In the output the two Koreas have two name to ISO code mappings in the index each.\n",
    "- Next group by the iso column, summing up the respondent counts and show the top entries."
   ]
  },
  {
   "cell_type": "code",
   "execution_count": 75,
   "id": "86f03d9a",
   "metadata": {},
   "outputs": [
    {
     "data": {
      "text/html": [
       "<div>\n",
       "<style scoped>\n",
       "    .dataframe tbody tr th:only-of-type {\n",
       "        vertical-align: middle;\n",
       "    }\n",
       "\n",
       "    .dataframe tbody tr th {\n",
       "        vertical-align: top;\n",
       "    }\n",
       "\n",
       "    .dataframe thead th {\n",
       "        text-align: right;\n",
       "    }\n",
       "</style>\n",
       "<table border=\"1\" class=\"dataframe\">\n",
       "  <thead>\n",
       "    <tr style=\"text-align: right;\">\n",
       "      <th></th>\n",
       "      <th>Country</th>\n",
       "    </tr>\n",
       "    <tr>\n",
       "      <th>iso</th>\n",
       "      <th></th>\n",
       "    </tr>\n",
       "  </thead>\n",
       "  <tbody>\n",
       "    <tr>\n",
       "      <th>USA</th>\n",
       "      <td>13543</td>\n",
       "    </tr>\n",
       "    <tr>\n",
       "      <th>IND</th>\n",
       "      <td>6639</td>\n",
       "    </tr>\n",
       "    <tr>\n",
       "      <th>DEU</th>\n",
       "      <td>5395</td>\n",
       "    </tr>\n",
       "    <tr>\n",
       "      <th>GBR</th>\n",
       "      <td>4190</td>\n",
       "    </tr>\n",
       "    <tr>\n",
       "      <th>CAN</th>\n",
       "      <td>2490</td>\n",
       "    </tr>\n",
       "  </tbody>\n",
       "</table>\n",
       "</div>"
      ],
      "text/plain": [
       "     Country\n",
       "iso         \n",
       "USA    13543\n",
       "IND     6639\n",
       "DEU     5395\n",
       "GBR     4190\n",
       "CAN     2490"
      ]
     },
     "execution_count": 75,
     "metadata": {},
     "output_type": "execute_result"
    }
   ],
   "source": [
    "df_countries['iso'] = df_countries.index.map(lambda x: country_index.get(x))\n",
    "iso_index = df_countries.groupby('iso').sum()\n",
    "iso_index.sort_values('Country', ascending=False).head()"
   ]
  },
  {
   "cell_type": "markdown",
   "id": "d8908b30",
   "metadata": {},
   "source": [
    "- Install <code>Geopandas</code> package"
   ]
  },
  {
   "cell_type": "code",
   "execution_count": null,
   "id": "afeba1b0",
   "metadata": {},
   "outputs": [],
   "source": [
    "pip install geopandas"
   ]
  },
  {
   "cell_type": "markdown",
   "id": "132a924e",
   "metadata": {},
   "source": [
    "- Import GeoPandas\n",
    "- Created a GeoDataFrame containing data from naturalearthdata.com and remove Antarctica so it doesn't take up unnecessary space. \n",
    "- Then add columns containing the total number of respondents per country and the ratio of respondents to 1 million inhabitants."
   ]
  },
  {
   "cell_type": "code",
   "execution_count": 78,
   "id": "2343566b",
   "metadata": {},
   "outputs": [
    {
     "data": {
      "text/html": [
       "<div>\n",
       "<style scoped>\n",
       "    .dataframe tbody tr th:only-of-type {\n",
       "        vertical-align: middle;\n",
       "    }\n",
       "\n",
       "    .dataframe tbody tr th {\n",
       "        vertical-align: top;\n",
       "    }\n",
       "\n",
       "    .dataframe thead th {\n",
       "        text-align: right;\n",
       "    }\n",
       "</style>\n",
       "<table border=\"1\" class=\"dataframe\">\n",
       "  <thead>\n",
       "    <tr style=\"text-align: right;\">\n",
       "      <th></th>\n",
       "      <th>pop_est</th>\n",
       "      <th>continent</th>\n",
       "      <th>name</th>\n",
       "      <th>iso_a3</th>\n",
       "      <th>gdp_md_est</th>\n",
       "      <th>geometry</th>\n",
       "      <th>respondents</th>\n",
       "      <th>respondent_ratio</th>\n",
       "    </tr>\n",
       "  </thead>\n",
       "  <tbody>\n",
       "    <tr>\n",
       "      <th>150</th>\n",
       "      <td>2087946.0</td>\n",
       "      <td>Europe</td>\n",
       "      <td>Slovenia</td>\n",
       "      <td>SVN</td>\n",
       "      <td>54174</td>\n",
       "      <td>POLYGON ((1158319.049 4963463.876, 1228205.872...</td>\n",
       "      <td>286.0</td>\n",
       "      <td>136.976723</td>\n",
       "    </tr>\n",
       "    <tr>\n",
       "      <th>127</th>\n",
       "      <td>8574832.0</td>\n",
       "      <td>Europe</td>\n",
       "      <td>Switzerland</td>\n",
       "      <td>CHE</td>\n",
       "      <td>703082</td>\n",
       "      <td>POLYGON ((799805.112 5069666.510, 803938.865 5...</td>\n",
       "      <td>932.0</td>\n",
       "      <td>108.690176</td>\n",
       "    </tr>\n",
       "    <tr>\n",
       "      <th>120</th>\n",
       "      <td>1326590.0</td>\n",
       "      <td>Europe</td>\n",
       "      <td>Estonia</td>\n",
       "      <td>EST</td>\n",
       "      <td>31471</td>\n",
       "      <td>POLYGON ((2121592.882 6284567.269, 2121592.428...</td>\n",
       "      <td>141.0</td>\n",
       "      <td>106.287549</td>\n",
       "    </tr>\n",
       "    <tr>\n",
       "      <th>110</th>\n",
       "      <td>10285453.0</td>\n",
       "      <td>Europe</td>\n",
       "      <td>Sweden</td>\n",
       "      <td>SWE</td>\n",
       "      <td>530883</td>\n",
       "      <td>POLYGON ((840937.999 6223578.056, 869899.710 6...</td>\n",
       "      <td>1020.0</td>\n",
       "      <td>99.169186</td>\n",
       "    </tr>\n",
       "    <tr>\n",
       "      <th>142</th>\n",
       "      <td>5818553.0</td>\n",
       "      <td>Europe</td>\n",
       "      <td>Denmark</td>\n",
       "      <td>DNK</td>\n",
       "      <td>350104</td>\n",
       "      <td>MULTIPOLYGON (((782831.650 5836658.459, 733278...</td>\n",
       "      <td>547.0</td>\n",
       "      <td>94.009627</td>\n",
       "    </tr>\n",
       "    <tr>\n",
       "      <th>114</th>\n",
       "      <td>8877067.0</td>\n",
       "      <td>Europe</td>\n",
       "      <td>Austria</td>\n",
       "      <td>AUT</td>\n",
       "      <td>445075</td>\n",
       "      <td>POLYGON ((1410030.178 5132073.592, 1407439.745...</td>\n",
       "      <td>833.0</td>\n",
       "      <td>93.837300</td>\n",
       "    </tr>\n",
       "    <tr>\n",
       "      <th>128</th>\n",
       "      <td>619896.0</td>\n",
       "      <td>Europe</td>\n",
       "      <td>Luxembourg</td>\n",
       "      <td>LUX</td>\n",
       "      <td>71104</td>\n",
       "      <td>POLYGON ((495064.070 5340139.039, 512234.241 5...</td>\n",
       "      <td>56.0</td>\n",
       "      <td>90.337734</td>\n",
       "    </tr>\n",
       "    <tr>\n",
       "      <th>130</th>\n",
       "      <td>17332850.0</td>\n",
       "      <td>Europe</td>\n",
       "      <td>Netherlands</td>\n",
       "      <td>NLD</td>\n",
       "      <td>907050</td>\n",
       "      <td>POLYGON ((551544.851 5684403.552, 568001.169 5...</td>\n",
       "      <td>1555.0</td>\n",
       "      <td>89.714040</td>\n",
       "    </tr>\n",
       "    <tr>\n",
       "      <th>21</th>\n",
       "      <td>5347896.0</td>\n",
       "      <td>Europe</td>\n",
       "      <td>Norway</td>\n",
       "      <td>NOR</td>\n",
       "      <td>403336</td>\n",
       "      <td>MULTIPOLYGON (((893727.039 8078673.227, 910904...</td>\n",
       "      <td>479.0</td>\n",
       "      <td>89.567935</td>\n",
       "    </tr>\n",
       "    <tr>\n",
       "      <th>136</th>\n",
       "      <td>4917000.0</td>\n",
       "      <td>Oceania</td>\n",
       "      <td>New Zealand</td>\n",
       "      <td>NZL</td>\n",
       "      <td>206928</td>\n",
       "      <td>MULTIPOLYGON (((15396259.872 -4283362.021, 153...</td>\n",
       "      <td>440.0</td>\n",
       "      <td>89.485459</td>\n",
       "    </tr>\n",
       "  </tbody>\n",
       "</table>\n",
       "</div>"
      ],
      "text/plain": [
       "        pop_est continent         name iso_a3  gdp_md_est  \\\n",
       "150   2087946.0    Europe     Slovenia    SVN       54174   \n",
       "127   8574832.0    Europe  Switzerland    CHE      703082   \n",
       "120   1326590.0    Europe      Estonia    EST       31471   \n",
       "110  10285453.0    Europe       Sweden    SWE      530883   \n",
       "142   5818553.0    Europe      Denmark    DNK      350104   \n",
       "114   8877067.0    Europe      Austria    AUT      445075   \n",
       "128    619896.0    Europe   Luxembourg    LUX       71104   \n",
       "130  17332850.0    Europe  Netherlands    NLD      907050   \n",
       "21    5347896.0    Europe       Norway    NOR      403336   \n",
       "136   4917000.0   Oceania  New Zealand    NZL      206928   \n",
       "\n",
       "                                              geometry  respondents  \\\n",
       "150  POLYGON ((1158319.049 4963463.876, 1228205.872...        286.0   \n",
       "127  POLYGON ((799805.112 5069666.510, 803938.865 5...        932.0   \n",
       "120  POLYGON ((2121592.882 6284567.269, 2121592.428...        141.0   \n",
       "110  POLYGON ((840937.999 6223578.056, 869899.710 6...       1020.0   \n",
       "142  MULTIPOLYGON (((782831.650 5836658.459, 733278...        547.0   \n",
       "114  POLYGON ((1410030.178 5132073.592, 1407439.745...        833.0   \n",
       "128  POLYGON ((495064.070 5340139.039, 512234.241 5...         56.0   \n",
       "130  POLYGON ((551544.851 5684403.552, 568001.169 5...       1555.0   \n",
       "21   MULTIPOLYGON (((893727.039 8078673.227, 910904...        479.0   \n",
       "136  MULTIPOLYGON (((15396259.872 -4283362.021, 153...        440.0   \n",
       "\n",
       "     respondent_ratio  \n",
       "150        136.976723  \n",
       "127        108.690176  \n",
       "120        106.287549  \n",
       "110         99.169186  \n",
       "142         94.009627  \n",
       "114         93.837300  \n",
       "128         90.337734  \n",
       "130         89.714040  \n",
       "21          89.567935  \n",
       "136         89.485459  "
      ]
     },
     "execution_count": 78,
     "metadata": {},
     "output_type": "execute_result"
    }
   ],
   "source": [
    "import geopandas as gpd\n",
    "\n",
    "world = gpd.read_file(gpd.datasets.get_path('naturalearth_lowres')).to_crs('+proj=robin')\n",
    "world = world[world.name != 'Antarctica']\n",
    "\n",
    "world['respondents'] = world['iso_a3'].apply(lambda x: int(iso_index.loc[x]) if x in iso_index.index else None)\n",
    "world['respondent_ratio'] = world['respondents'] / world['pop_est'] * 1_000_000\n",
    "world.sort_values('respondent_ratio', ascending=False).head(10)"
   ]
  },
  {
   "cell_type": "markdown",
   "id": "60bcddf4",
   "metadata": {},
   "source": [
    "Install <code>Mapclassify</code> pacakage for the classification schemes for Choropleth Maps"
   ]
  },
  {
   "cell_type": "code",
   "execution_count": 77,
   "id": "25c0e467",
   "metadata": {},
   "outputs": [
    {
     "name": "stdout",
     "output_type": "stream",
     "text": [
      "Requirement already satisfied: mapclassify in ./opt/anaconda3/lib/python3.9/site-packages (2.4.3)\n",
      "Requirement already satisfied: scipy>=1.0 in ./opt/anaconda3/lib/python3.9/site-packages (from mapclassify) (1.7.3)\n",
      "Requirement already satisfied: pandas>=1.0 in ./opt/anaconda3/lib/python3.9/site-packages (from mapclassify) (1.4.2)\n",
      "Requirement already satisfied: networkx in ./opt/anaconda3/lib/python3.9/site-packages (from mapclassify) (2.7.1)\n",
      "Requirement already satisfied: scikit-learn in ./opt/anaconda3/lib/python3.9/site-packages (from mapclassify) (1.0.2)\n",
      "Requirement already satisfied: numpy>=1.3 in ./opt/anaconda3/lib/python3.9/site-packages (from mapclassify) (1.21.5)\n",
      "Requirement already satisfied: python-dateutil>=2.8.1 in ./opt/anaconda3/lib/python3.9/site-packages (from pandas>=1.0->mapclassify) (2.8.2)\n",
      "Requirement already satisfied: pytz>=2020.1 in ./opt/anaconda3/lib/python3.9/site-packages (from pandas>=1.0->mapclassify) (2021.3)\n",
      "Requirement already satisfied: threadpoolctl>=2.0.0 in ./opt/anaconda3/lib/python3.9/site-packages (from scikit-learn->mapclassify) (2.2.0)\n",
      "Requirement already satisfied: joblib>=0.11 in ./opt/anaconda3/lib/python3.9/site-packages (from scikit-learn->mapclassify) (1.1.0)\n",
      "Requirement already satisfied: six>=1.5 in ./opt/anaconda3/lib/python3.9/site-packages (from python-dateutil>=2.8.1->pandas>=1.0->mapclassify) (1.16.0)\n",
      "Note: you may need to restart the kernel to use updated packages.\n"
     ]
    }
   ],
   "source": [
    "pip install mapclassify"
   ]
  },
  {
   "cell_type": "markdown",
   "id": "83b41b33",
   "metadata": {},
   "source": [
    "- Plot the map. \n",
    "- Treating countries with and without data separately.\n",
    "-  Add annotations and a legend, so the graphic can be interpreted without additional context. "
   ]
  },
  {
   "cell_type": "code",
   "execution_count": 84,
   "id": "300dd58a",
   "metadata": {},
   "outputs": [
    {
     "data": {
      "image/png": "[encoded data removed]",
      "text/plain": [
       "<Figure size 1400x800 with 1 Axes>"
      ]
     },
     "metadata": {},
     "output_type": "display_data"
    }
   ],
   "source": [
    "known = world.dropna(subset=['respondent_ratio'])\n",
    "unknown = world[world['respondent_ratio'].isna()]\n",
    "\n",
    "ax = known.plot(column='respondent_ratio', cmap='viridis_r', figsize=(14, 8), scheme='fisher_jenks', k=7, legend=True, edgecolor='#aaaaaa')\n",
    "unknown.plot(ax=ax, color='#ffffff', hatch='//', edgecolor='#aaaaaa')\n",
    "\n",
    "ax.set_title('Stack Overflow Developer Survey 2022 Respondents per 1 Million People', fontdict={'fontsize': 20}, loc='left')\n",
    "descripton = '''\n",
    "Survey data: https://insights.stackoverflow.com/survey • Population estimates: naturalearthdata.com '''.strip()\n",
    "ax.annotate(descripton, xy=(0.065, 0.12), size=12, xycoords='figure fraction')\n",
    "\n",
    "ax.set_axis_off()\n",
    "legend = ax.get_legend()\n",
    "legend.set_bbox_to_anchor((.11, .4))\n",
    "legend.prop.set_size(12)"
   ]
  },
  {
   "cell_type": "code",
   "execution_count": null,
   "id": "8b4af8cb",
   "metadata": {},
   "outputs": [],
   "source": []
  }
 ],
 "metadata": {
  "interpreter": {
   "hash": "111c587d805d006d4258aa431fdd4511e6cdecce60bd037d70d9cfa34a004c38"
  },
  "kernelspec": {
   "display_name": "Python 3 (ipykernel)",
   "language": "python",
   "name": "python3"
  },
  "language_info": {
   "codemirror_mode": {
    "name": "ipython",
    "version": 3
   },
   "file_extension": ".py",
   "mimetype": "text/x-python",
   "name": "python",
   "nbconvert_exporter": "python",
   "pygments_lexer": "ipython3",
   "version": "3.9.12"
  }
 },
 "nbformat": 4,
 "nbformat_minor": 5
}
